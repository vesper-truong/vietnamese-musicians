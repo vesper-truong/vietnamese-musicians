{
 "cells": [
  {
   "cell_type": "code",
   "execution_count": 1,
   "metadata": {},
   "outputs": [],
   "source": [
    "######This is an individual project conducted by Van Truong, a degree student at the University\n",
    "#of Helsinki, for the course Introduction to NLP for Digital Humanities 2020\n",
    "#In this project, I aimed to access a Reddit thread about Pokemon starters to see which type\n",
    "#of Pokemon and which Pokemons attracted most of the users's attention in the thread\n",
    "#The Reddit thread can be accessed at: \n",
    "#https://www.reddit.com/r/gaming/comments/avhv3p/all_pokemon_starters\n",
    "#I also visualized my results to facilitate the writing of my report for this project\n",
    "\n",
    "###To get started, I imported the pandas library and PRAW, which is a Python package\n",
    "#that grants access to Reddit's API (Application Programming Interface)\n",
    "#PRAW was previously installed on my computer by typing \"pip install praw\" in the terminal\n",
    "\n",
    "import pandas as pd\n",
    "import praw"
   ]
  },
  {
   "cell_type": "code",
   "execution_count": 2,
   "metadata": {},
   "outputs": [],
   "source": [
    "###Next, I wanted to get reddit and subreddit instances\n",
    "#To do so, I had to authenticate myself. Thus, I created a reddit account \n",
    "#and a reddit application to obtain the client_id, client_secret, and user_agent"
   ]
  },
  {
   "cell_type": "code",
   "execution_count": 3,
   "metadata": {},
   "outputs": [],
   "source": [
    "reddit = praw.Reddit(client_id='QudPpybQT0xlmQ', \n",
    "                     client_secret='SH8QDlrHgiEopPrFai14zUielmI', \n",
    "                     user_agent='MyPoGOproject')"
   ]
  },
  {
   "cell_type": "code",
   "execution_count": 4,
   "metadata": {},
   "outputs": [],
   "source": [
    "subreddit = reddit.subreddit('gaming')"
   ]
  },
  {
   "cell_type": "code",
   "execution_count": 5,
   "metadata": {},
   "outputs": [],
   "source": [
    "###Then, I wanted to access the thread about Pokemon starters. I used the .search method\n",
    "#to search for the thread in the subreddit \"gaming\"\n",
    "#My first attempt was:\n",
    "#---> my_thread = subreddit.search(\"All pokemon starters!\")\n",
    "#But this resulted in a problem: the dictionary contained all submissions matching the key words\n",
    "#while I only wanted the first thread, which has the most comments.\n",
    "#So I set a limit to the search function:\n",
    "\n",
    "my_thread = subreddit.search(\"All pokemon starters!\", limit=1)"
   ]
  },
  {
   "cell_type": "code",
   "execution_count": 6,
   "metadata": {},
   "outputs": [],
   "source": [
    "###In this step, I chose which kinds of data to obtain and created a dictionary to store the data\n",
    "\n",
    "pokemon_dict = { \"title\":[], \"score\":[], \"id\":[], \"comms_num\": [], \"date\": [], \"body\":[]}"
   ]
  },
  {
   "cell_type": "code",
   "execution_count": 7,
   "metadata": {},
   "outputs": [],
   "source": [
    "###I used the for loop to iterate through \"my_thread\" and append data to the dictionary\n",
    "\n",
    "for submission in my_thread:\n",
    "    pokemon_dict[\"title\"].append(submission.title)\n",
    "    pokemon_dict[\"score\"].append(submission.score)\n",
    "    pokemon_dict[\"id\"].append(submission.id)\n",
    "    pokemon_dict[\"comms_num\"].append(submission.num_comments)\n",
    "    pokemon_dict[\"date\"].append(submission.created)\n",
    "    pokemon_dict[\"body\"].append(submission.selftext)"
   ]
  },
  {
   "cell_type": "code",
   "execution_count": 8,
   "metadata": {},
   "outputs": [],
   "source": [
    "###When I printed \"my_thread\", the data could not be read normally.\n",
    "#So, I used pandas to create a dataframe which looks like a spreadsheet from the dictionary\n",
    "\n",
    "df_dict = pd.DataFrame(pokemon_dict)"
   ]
  },
  {
   "cell_type": "code",
   "execution_count": 9,
   "metadata": {},
   "outputs": [
    {
     "name": "stdout",
     "output_type": "stream",
     "text": [
      "                   title  score      id  comms_num          date body\n",
      "0  All pokemon starters!   2532  avhv3p        390  1.551327e+09     \n"
     ]
    }
   ],
   "source": [
    "###Checking my dataframe\n",
    "\n",
    "print(df_dict)"
   ]
  },
  {
   "cell_type": "code",
   "execution_count": 10,
   "metadata": {},
   "outputs": [],
   "source": [
    "###After the previous step, I encountered a problem. I wanted to access the comments\n",
    "#but the \"body\" column is empty\n",
    "#I did not erased all the codes above as the information may be useful for my following steps"
   ]
  },
  {
   "cell_type": "code",
   "execution_count": 11,
   "metadata": {},
   "outputs": [],
   "source": [
    "###In this step, I managed to access all the comments in the thread\n",
    "#First, I obtained a submission object\n",
    "\n",
    "url = \"https://www.reddit.com/r/gaming/comments/avhv3p/all_pokemon_starters\"\n",
    "submission = reddit.submission(url=url)"
   ]
  },
  {
   "cell_type": "code",
   "execution_count": 12,
   "metadata": {},
   "outputs": [],
   "source": [
    "###Then, using the comments attribute of the submission object, I could interact with\n",
    "#the thread's comment forest. However, the comment forest may be deep with many comments\n",
    "#So, I used the list() method which returned the top-level comments, followed by second-level ones, and so on.\n",
    "#Finally, I used the append() method to append the comments to the previously created list \"comments\"\n",
    "\n",
    "comments = []\n",
    "submission.comments.replace_more(limit=None)\n",
    "for comment in submission.comments.list():\n",
    "    comments.append(comment.body)"
   ]
  },
  {
   "cell_type": "code",
   "execution_count": 13,
   "metadata": {},
   "outputs": [
    {
     "data": {
      "text/plain": [
       "389"
      ]
     },
     "execution_count": 13,
     "metadata": {},
     "output_type": "execute_result"
    }
   ],
   "source": [
    "###I wanted to check the number of comments appended by using the len() method. \n",
    "#It seems that I managed to get all comments as the total number of comments is 390 (shown in df_dict)\n",
    "#Excluding the first comment in the submission, there should be 389 comments.\n",
    "\n",
    "len(comments)"
   ]
  },
  {
   "cell_type": "code",
   "execution_count": 14,
   "metadata": {},
   "outputs": [],
   "source": [
    "###In this step, I counted how many times each type of Pokemon starters was mentioned.\n",
    "#There are three types of Pokemon starters: grass, water, and fire\n",
    "#but first I need to convert my list \"comments\" into a string to use the count() method\n",
    "#To convert my list to a string, I used the join() method.\n",
    "\n",
    "str_comments = \"\".join(comments)"
   ]
  },
  {
   "cell_type": "code",
   "execution_count": 15,
   "metadata": {},
   "outputs": [
    {
     "name": "stdout",
     "output_type": "stream",
     "text": [
      "Everybody be hating my main stay grass typesI'll be 6/8 Gens picking water starter.\n",
      "\n",
      "Didnt even realize how much I prefer the water types most of the timeTreecko still styling in everyone elseFuck... I only know Pokemon up to the 3rd gen... Remaining Fire-types: Ox, Goat, Horse, and Snake.\n",
      "\n",
      "I, for one, would love to see a Fire/Poison-type.Gen 2 was my favorite. Except Chikorita, the worthless bastard. But Totodile and Cyndaquil made up for it All the starters? I think pikachu is going to have one heck of a surprised face when he doesn't see himself on this!I still think the first were the best.\\*Checks Chinese Zodiac\\* Yep, now we got a Rabbit in the fire startersYou know that owl is a grass type just cause he has a green bow tie.Bulbasaur! Charizard! Squirtle! \n",
      "\n",
      "Chiquorita! Uhmm... Totodile! \n",
      "\n",
      "Hmmm... Torchick! Mudkip! \n",
      "\n",
      "Uhhh.... Hmmmm... Yeahhh... \n",
      "\n",
      "Riiiiiight.... \n",
      "\n",
      "Even if I buy the new gen I doubt I'll remember their names... :PMudkip will always be my spirit-monPiplup is still my favoriteMaybe that's purely because of my age and nostalgia, but there's a pretty hard transition from \"which one is the coolest?\" to \"which one is the most bearable?\" after Gen 4.Mudkip supremeSquirtle man through and through, but I'm pretty sure every gen I picked the fire starter otherwise.The new grass type looks like a furby and if my childhood has anything to say, its haunted by default.\n",
      "\n",
      "THE SPIRIT OF THE F U R B Y HAS FOUND A NEW H O S TSomething about these new fellars is off puttin'Idk how i feel about the grass monkeyHonestly, in terms of appearance, I feel like the starters get worse as time goes on. I appreciate how the first 3 Gen’s have relatively simple designs that look like they could be real creatures. As time goes on, it feels like the Pokemon just get more and more over designed, adding unnecessary markings and appendages for no real reason. Anybody think that the fire starters closely resembled the Chinese zodiac?My only complaint is that Scorbunny and Chespin have the exact same face and I can never unsee itCyndaquil was my first Pokémon on Crystal. He’s still my favorite starter (charmander is a close second).They never really improved on the originals, imo\n",
      "\n",
      "&#x200B;1st-3rd gen personal favorite Interesting to see the art direction change over 20 years.  The new starters look like circus animals or bad PBS cartoon animations and a lot less like wild animals.  Just my two cents.That would make a cool mousepadmy first from each are, Bulbasaur, Totodile, Mudkip, Chimchar, Snivy, Froakie(?), Owl BoiI was a Gen 3 kid, I could never decide which starter to pick up so all 3 have big meaning to meGen 2 is my favorite.  But I’ve been 7/7 in picking fire Pokémon in first play through so farToo many of these look similar. This frustrates me Chosen first starters per generation:\n",
      "\n",
      "Charmander, Totodile, Treeco, don't remember as I didn't like any of them, Snivy, Froakie, and Rowlet.\n",
      "\n",
      "Undecided between Scorbunny and Sobble for Sword/Shield.Grass monkey one doesn't that bad, it just forsed to be near greatest round owl in the universe, so it looks slightly worse4th gen was the last good oneGen 1 still the bestI've only played the games on the left.I picked fire starter since I was tot,  ever single time.... This bunny though...ugh... making this choice hard.  Monkey is too adorable nothing beats gen 1 stillThree of these are not like the others...what even happened to the water starters Gen 5 onwards? they all look so dumb xDIt was cool when Pokémon looked like monsters and not marshmallows glued together by someone with Parkinson’s.Literally don't know any of them after Black and White. Welp thats what I get for not being able to afford a 3dsSince it goes 2 fire whatever 3 fire fighting 2 fire whatever can we confirm another fire fightingAll the generations have exactly 1 clear 4 legged pokemon. Although the last one is a little less clear I guess since i was gonna say sobble is a quadruped  but I could be wrong. Also if you look among them you can see that a lot share a similar design or body structure, such as Bulbasaur, turtwig, chickorita, and mudkip. (I probably didnt spell the names right but idrc)Scorbunny and chespin have to be related... They have the same faceOlha esses arrombadinhos fofos do caralhoWe need a water ape starter for the next generation. A sea monkey?Gen 1 baby. Nothing will ever beat the feeling 8 year old me had opening that bday present that contained Pokémon red and a GBC.OG3 are by far the best design.I think this is the first gen since 4 where I want all 3.For all that fire is my favorite type I actually tend to chose the grass starter. I’m 4:2 grass:fire for starter preference for the previous gens with gen 2 being a tie. I’ve never chosen a water starter though this gen may be the first depending on how their final evolutions look.This is the first time I'll probably do green instead of red. Missing onedid anyone else get let down by the names they had chosecan't wait to see the fan art guesses of what the new starters evolve intoAnyone know why after gen2 they started making all the water types soft and dopey ?And Bulbasaur is still the absolute best.they better not pull another fennekin with sobbleOmg does the baby red cat turn into the buff red cat in Smash Bros?!? \n",
      "\n",
      "Boy am I behind on Pokémon #gold4lyfe2\n",
      "\n",
      "1\n",
      "\n",
      "4\n",
      "\n",
      "3\n",
      "\n",
      "8\n",
      "\n",
      "6\n",
      "\n",
      "5\n",
      "\n",
      "7\n",
      "\n",
      "Kinda seems like they got more cartoony and less animal like as time went on.Missing Pikachu, I got him in the yellow addition  :D  (old one not the new one)Ugh being an adult sucks. This is the fourth set of starts to come out since I last played and beat one of these. \n",
      "\n",
      "I just hope my oldest daughter is in to it so I can get caught up. They stick out so badly. When I saw the Alolan starters mixed in with the rest, they fit in. Same with Kalos starters. Honestly I love all of their pre-evolution designs, but it’s gen 5-6 where I started losing interest only in the final evolutions. They seem to become more anthro humanoid and less like fun creatures. I do love all of the first and second forms though!charmander still the best tell me I'm wrongWtf are those abominations past mudkip torchic and treekoWhich gen do you think was the hardest decision?Chespin and new fire starter look exactly the sameWhat's with Treecko and the T-poseI went fire first 4 gens, then water another 2 and been grass since Rowlett and keeping it that way. Single (aka water potato) is best gen 8 starter imoIt's probably because I'm older but honestly, I feel like since gen 4 onwards the starters begin to feel pretty... idk. \"manufactured\"?I have a special place in my heart for Gen 6My first was temping who was yoursGotta love that Gen 4. But tbh, I would just catch a Starly and become one with the god we know as Staraptor.\"all\"\n",
      "Forgot Pikachu My starters from Gen1 to Gen8:\n",
      "\n",
      "1. Grass\n",
      "2. Water\n",
      "3. Grass\n",
      "4. Water\n",
      "5. Grass\n",
      "6. Fire ( because my SO took Water)\n",
      "7. Water (because my SO took Grass)\n",
      "8. Water (because I don't like the others and my SO takes Water, too).\n",
      "\n",
      "It could have been great... Without my SO, it would have been 4x water, 4x grass, perfectly balanced.PokemojisI like that little grass monkeyMudkip os hands down the bestthe new three are just fusions of older gensI'm still waiting for them to get around to making a sheep fire starter.GEN 3 FTW! I always choose Treecko, good stats all round, good movesets and can learn some TMs that I want. Combo that with Gardevoir and I'm set. A two Pokemon army, just Treecko and Gardevoir. \n",
      "\n",
      "The rest of the lineups are only made up of Zigzagoon to grab random items and equipping them with HMs. Good times.What the hell is the gen-5 water starter with the penis on its belly?My love extends to the first 3 sets. Mayb 4 maxI can't believe Unova is already three gens past, I feel so old.I feel like the art style shifted after gen 2 and they all look relatively the same. Grass : looks like an easy Grass/Fight. But I'd really hope it turns into Ape Commander-ish and become Grass/Steel\n",
      "\n",
      "Fire : Normal never lose typing, and no one gain Normal type, and having Normal type for starter sounds dumb, Fire/Fight isn't meme anymore so they could comeback anytime, yettt I don't like it, so.. Fire/Ghost? Fire/Flying? \n",
      "\n",
      "Water : I know he looks like Mudkip v2, but I hope he gets fancy typing, Water/Dragon pls, lol. \n",
      "\n",
      "Dual typing isn't staple but it always cool having dual type starter and I'd really hope they gone into cool stuffs, match with Sword / Shield theme. \n",
      "\n",
      "Pls I'm fine with cute things, I love Gen IV's amity square but PLS no more starter like Primarina, or at least swapped the genderThe new fire type just looks like a red chespin to me...Pokémon black and white 2 brought me some of the happiest memory’s I’ve every experienced.Tepig and Turtwig will always be my favorite starters! They're just so cute! I want them!The new fire and water starters look like a mix of a couple previous gens and I hate it yet love it at the same time\n",
      "I think I stopped with Chimchar back in 07Maybe I'm crazy, but the fire starters all seem to belong to the Chinese zodiac. Dragon, mouse, chicken, monkey, pig, dog, tiger, and rabbit here. Just missing goat/sheep, cow, horse, and snake...maybe in later editions?Man Gen 1 and 2 were just the best. I just realised, I've gone grass-water-grass-water every gen since the beginning.Sinnoh starters >>>>>>Know gen 1 and 2, the rest are a mystery to me.Pikachu is missing.Wheres pikachu?Grooky looks like a crappy fan-made starter Fuck I’m getting old It’s like...10 minutes There's one thing I noticed about the starter/tier-1-evolution pokemon of mid and later generation pokemon that has been off-putting and seperated from the beginning pokemon, especially the first generation. The early generations had the \"younger\" pokemon featured with small heads. For some reason the visualization of Charmander and Squirtle with small hears was more appealing and seemed more realistic. It seems the larger, even slightly larger, heads of the \"younger\" pokemon seems less realistic, even though we're talking about a cartoon. Smaller heads makes me think youth, weak, etc. but that that can be strengthened through evolution.Looking at this now is the first time I realise I basically always choose fire starters...Look how they massacred my boysDo you even MUDKIP BRO??fucking convoluted None will ever be as good as the original 3.I can see the changes in art styling between the generations, especially in the eyes.Anyone else noticed rabbit is albino Did anyone else hate the last game I think it was ? The Hawaii theme was making me cringe so hard it was unplayableGreninja FTWI don't even know which games are half of those from.I only know the first three top left...I think this is the first generation where I choose the Fire starter.Cool how they made another Mudkip.Been a solid fire starter.\n",
      "\n",
      "I also always take the fire starter Pokemon.I’m reserving my opinion until I see the evolutions. I have hope...gen 3 will always have a place in my heartGlad to see that the developers finally broke the cycle of creating uglier and uglier Pokemon with every new generation. Judging from the looks of the starters at least.Ive been playing a lot of pokemon go recently and have some of these and didnt even realise they were starters(the last pokemon game i bought and played was GBA fire red. At this point, I realised how old I actually am. I realized that 4th gen is now actually the first half of the Pokémon life-cycle.It all stopped after gen 4 for me1st gen was the best. So the next community day after treecko will be Torchic looking forward to that.The last time I played a Pokemon game was when Diamond first released, and all I remember is thinking about how fresh and new everything looked. I've never even seen the starters past Gen 4. God damn it's been a long time.I don't get it how each next generation looks more ratarded than the previous ones. Originals just look like real pokemon, not like some shity Nikelodeon characters.Cyndaquil best starter ever.\n",
      "\n",
      "*FIGHT ME*Straight up decline in character design, te further they go, the more details/less iconic designs. Plus stahp with humanized pokemon noone wants to make humanoids fight.I'd really love it if we got something different for the typings. Maybe Psychic-Fighting-Dark or some other checks and balance trio of starters.\n",
      "\n",
      "&#x200B;\n",
      "\n",
      "I know Grass, Fire, water is THE thing, but I would love to see something mix it up.This is a lie!!! Where is pikachu and eevee. They are starters.Gen 4 <3Gen 1-5 are the only ones ive played and liked the starter pokemon, the rest look off design wise. Personally Gens 1-3 still be my ultimate favorites.Totodile is still my all-time favouriteLitten is the only one that really doesn’t fit.They got shittier each generationyou forgot about pikachu, it was start pokemon in pokemon yellow...What’s with monkey starters?Wow.  I didnt realize there were this many... gen 1 was magical enough.  I cant even imagine trying to keep up now.  Im so oldGen1&2 will forever be best Damn, I only recognize the left side at this point. We old fam Everything on the right side seems odd for me. I'm old.Gen 1 is so iconic. All 3 are fantastic.Typhlosions eruption is bad ass and it was my favorite starter. I think it's lazy and sad how a lot starters  evolve into some bi bedal anthropomorphic freak. The fire cat from sun and moon was very cool until it turned into a lame ass wrestler. I have missed a lot of Pokémon. Holy shit. Treecko final evolution is my favorite.You'll never beat the original three in my opinion. Creatively designed and named, statistically very good and memorable.  Why are the first 2 gens so perfect and everything else is just blah they just get really out there and don’t even come close to looking like they could be real animals. I think that’s what makes them bad. Besides the fire type in gen 6 they pretty much all suck. The water type style also goes from cool or intimidating to just silly after gen 2 please give the bunny flaming ears when it evolves PLEASE GIVE IT FLAMING EARSGen 8 and my unintentional Grass/Fire/Grass/Water/repeat pattern still holds true. Really looking forward to seeing Sobble's evolutions.Bulbasaur, Charmander, Squirtle, Chicarita, Cidaquill, Toadadial, pass, chick-something, mudkip, duno, chimchar, piplup, I have no clue on the rest!The new ones look like knock off Pokémon At this point I think the only thing that will make starters exciting again is the day they stop being nothing but Grass / Fire / Water.Yet no ones ever beaten Piplup as best starterIn order from first gen to last, my faves are: Grass, water, fire, water, water, grass, grass, grass.\n",
      "\n",
      "Newest one might change of course... Sobble is really cute and might win out.All the Hoenn starters were my favorite in each of their respective base typings... However, the Galar region's starters maasively appeal to me. My favorite starters might actually change from the Hoenn starters to Galar starters... This could be the first time I get new favorite starters since Hoenn, and a change for all three typings too! I am very excited to see their final forms.I literally only catch cute pokemon and my starter choice is no different. I'd go fire for gens 3,6, and 8. Water for 1,4,5, and 7 then grass for gen 2Why did they change the eyesWhat? No love for Pokemon Yellow version?I stopped after gen 4, but I think I'm ready again with the new gen and It looks really good on the switch.I went fire up to Gen 5, then water for gen 6 and 7, and probably water again for gen 8.Bobbies[deleted]You can see where they started to run out of ideas. Inevitable I guesslol gen 7 looks SO weird!\n",
      "\n",
      "also what is the water pokemon from gen 5 and the grass pokemon from gen 6 suppose to be?Gen 1 and 4 are the best.My list of my favorite Pokémon generations:\n",
      "\n",
      "1. Gen 3\n",
      "\n",
      "2. Gen 7\n",
      "\n",
      "3. Gen 2\n",
      "\n",
      "4. Gen 1\n",
      "\n",
      "5. Gen 4\n",
      "\n",
      "6. Gen 5\n",
      "\n",
      "7. Gen 6I have always loved Pokemon. I'll admit that I was really upset with Pokemon Let's Go Eevee/Pikachu. I refused to buy it and even refused to get the demo. Going to hold judgement until I see more of the Galar region but I'm hopeful.Look at the first 6 vs the last six. Man I grew up in a beautiful time.Gen 1-2 are my personal fave. I don't mind gen 3-5.  \n",
      "\n",
      "\n",
      "I don't want to talk about 6-8..The new ones just don't look like Pokemon starters. They look fan made. I quit at gen 3. They started to be generic blobs. Devoid of new ideas. I can’t name any on the right side and I’m 21. I’m old man black and white wrost GenBest Grass: Bulbasaur and Chikorita  \n",
      "Best Fire: Charmander and Fennekin  \n",
      "Best Water: Squirtle and Totodile\n",
      "\n",
      "(Score: G1, G1, G1, G2, G2, G6)\n",
      "\n",
      "Gest G1: Charmander  \n",
      "G2: Totodile  \n",
      "G3: Torchic... right up until it evolves.  \n",
      "G4: Ew. Turtwig I guess.  \n",
      "G5: Not a single good one there.  \n",
      "G6: Fennekin.  \n",
      "G7: Litten... Until it evolves twice.  \n",
      "G8: The Water one looks neat.\n",
      "\n",
      "(Score: FireX4, WaterX2, Grass X1)Nothing will ever beat the original trio. They are the Holy Trinity. and i still only know thr names of gen 1Hate to be \"that guy\" but this gen has the ugliest starters. The designs just seem... busy?\n",
      "\n",
      "Ive got no nostalgia for past gens aside from the first one but.. yeah this one is just weird and looks like mismatches of the past gens.I played the first 2 Gens in my childhood when they came out.. but man.. everything after the fourth Gen looks so terrible for me.. like.. throwing different  geometric shaped pieces on a big/small clay figure.. painting it and calling it the day. Even Missingno had more style imo.As someone who picks water every time (except for my boy turtwig because turtles are adorable) I think I might go with the monkey this time around.Gen 1 can't be beat. I’ve picked fire for all except gen 2 cuz cyndaquil is fucking stupid, I’ll have to see the evolutions of the new game before I pick for this oneSnivy all the way!Damn they added a lot. I could only name the first three sets.What would be the best starter three of you could mix and match? \n",
      "\n",
      "My pick:\n",
      "\n",
      "Rowlet, Charmander, TotodileRed and Blue FTWI've always been a fan of turtle Pokemon and I'm waiting on a fire turtle pokemonWhy is the right side of the image blank?Wrong.  Not even a Pokémon fan and I know that.  I still have my copy of Yellow and Pikachu is the starter in that one.I feel like gen 8 was drawn by a 6th grade art student.Artistically speaking, why go through all that trouble and still leave a white border on the new ones? So off-putting.All but Gen 1 and 2 look like trash. \n",
      "\n",
      "Then again, maybe I’m just biased because I’m old. So i dont acknowledge anything past gen 4, because ice cream and trash are not pokemon. But for each game i've played (red, crystal, sapphire, diamond) i've chosen the grass type because they're just better for the long run (IMO). Art style slowly just became neopetsWtf happened in the 7th gen \n",
      "\n",
      "Did they forget how starter Pokemon worked or something I just noticed a trend with the starters... the water types are all water-dwelling earth animals, the fire types are the obvious zodiac animal trend, and the grass types are all non-sequitur animals with a grass motif added (owls, turtles, dinosaurs, etc.) Kind of cool to see they have kind of a repeating trend. I’m also wondering what they’ll do after gen 12 when there are no more zodiac animals. 😄They got dumb after Gen4Gen 1 for lifeI love the new weed monkeyThis just goes to show how generic and uninspired the starters have gotten...It like watch society decline.Prinplup is the best starterAre they serious? I only know a single name of these weirdo things. Most of these look like they are fucking auto-generated!Can't they give them other typings for once? Change it up man, like come onoh yeah, yet again another generation of Pokemon that has a grass, fire, and water types for starters. way to break the mold there.\n",
      "I think of the first three, Venusaur was mathematically the best choice-- just considering strengths/weaknesses vs the opponents you had to face in the game. I really liked grass types till X and Y. Chestnaut just didn't feel right to me. It was like a poor imitation of Torterra. I actually restarted my game and choose Greninja instead, while unaware of how meta they apparently were. Sun and Moon I liked Poplio and Rowlet, but decided to go grass again. I didn't regret it in the slightest. Chepin/Quilladin/Chestnaught were the weak link in the grass starters imo. Serperior and Torterra were my faves. Never really liked the fire types tbh.Problem with Treeko is that Grovyle was so much cooler than Sceptile. Grovyle was *awesome* and then Sceptile was an awkward-looking letdown.I aways picked the grass type.I'm only digging half of the grass starters. This new Grookey is a great addition, in my opinion.Grass starter for life. Started with Bulba, went with chikorita because my brothers went with the other 2 and then it became my standard tradition to always start with grass when i fell in love with Treeko. Sceptile is my favorite final stage starter and always will be. So Grookey Gang it is.Yeah, on my first playthrough of a generation, I pick grass.Decidueye was the dopest.Fowler is the best starter tho. I mean come on, he’s an owl and that instantly make them the best!Grass types all the way!Amen to thatPoison or put the opponent to sleep, leach seed, then watch them slowly wither away. Grass is by far the most effective against a higher level opponent. Love me that grass type. Aside from the seal in sun and moon I always pick water. For some reason the grass/ghost owl just seemed so much cooler.I nearly always picked the fire types, but that's because you usually can't get another fire type until halfway through the gameWhich two didn’t get water start?Same \n",
      "Played Pokemon prolly throughout 10 years or so with mostly no recollection of the last game and still picked water .. T(pose)reecko Chespin too. [deleted]Then you'll love Salazzle.I’d love to see an Ox evolve into a Minotaur. Maybe as a Fire/Steel type. I thought Slugma was a Fire/Poison type at first... Gimme that fiery serpent - Ignidewinder!Cyndaquil :3 He was a trusty companion all troughout the Soul Silver  journeyChikorita taught me how to catch other pokemon.    Loved the pokemon to bits, but man did pidgey do some heavy liftingFor me gen 3 is the only one where I like all the starters. Although I'm extremely biased as sapphire was my first game and probably restarted it over and over as a kidFirst of all: How dare you!They could've used a second typingDon't you be hating on Mr. Stake now that bastard pulled his weight and then some not dying to shit! Feraligatr could stomp his way through the entire game aloneChikorita was weird looking, but actually useful sometimes, Totodile I hate and would always end up as an I'm slave because of convenience, and then Cyndaquil could use some work(just my dislike for Typhlosion's design) but he was good in general.This is the comment I was looking for.\n",
      "\n",
      "And come to think of it... Isn't EEVEE a starter pokemon too?He is what is known as a \"Bastard starter\"Underrated comment.Me too. I love Pokemon, have used every starter, even really, really like a few of them, but there something about Gen 1 starters that is magic. Every stage of their evolutions trees are perfect. I can’t say the same about most other starters.\n",
      "\n",
      "I love Quilava, Infernape, Dewott, Greninja, and Decidueye. Every other one has something a little lackluster about them to me.I think I played 4th gen the most but ivysaur and feraligatr will always have places in my heart I’m on the fence, it’s either that or x and y. Fennekin and Delphox are awesome, froakie and greninja are awesome as well, and chespin and Chesnaught are just as awesome. It’s the only game other than the firsts that I can say all three are cool.Definitely. But there is such a drop in style from two to three... Then they tried again in four. Maybe it's just me but it seems so far off[deleted]I feel like just looking at them they were the best designed. The rest seem so generic and probably flawed by the fact that most top tier ideas have been used. Now we have ice cream PokémonYeah he’s honestly more of a Flying/Grass than a Grass/Flying if you think about itTurtwig, chimchar, piplupYou said charizard instead of charmander :)Hey!!!!! All starters up to Gen 4 are beloved. The rest can fuck right offI read this like the old pokemon rap from the TV show but as someone stumbled through it. \n",
      "\n",
      "\"at least 150 or more too see to be a pokemon master is my destiny....\n",
      "we got bulbasaur charlizard squritle chiquorita..... ummmm.... totodile... hmmm torchick mudkip and ummm yea 150 or more to see!!!!\"\n",
      "\n",
      "https://www.youtube.com/watch?v=xMk8wuw7nekI remembered 12 of them. Pretty happy with that.Username checks outI'm having the same thing, I mean Snivy and Froakie are cool.(second because of its evolution) But not a fan of the looks of the new ones. It's the art style shift, a big thing with gen 5 is that the art style was altered quite a bit from what preceded it.Gens 1&2 were designed for the games first, and retroactively had designs changed to look closer to the anime which used many soft creamy colors.\n",
      "\n",
      "Gens 3&4 were designed to take advantage of all the new colors the games had to offer, and have more intense less pastel-y hues\n",
      "\n",
      "Gen 5 is unique in that it was designed around 2d sprites that are always in motion and had to be easier to animate, stubby legs, simple shapes and highly expressive eyes.\n",
      "\n",
      "Gen 6+ Were designed to be displayed and experienced as 3d models, so some of their proportions fit 3d better than 2dThat would be that they are new. Today is the first day youve ever seen them, so they look strange. A couple months from now, or better yet once the game is out, theyll just look like Pokemon to you.interesting. i actually find them to be solid compared to how i felt about any other gen's starters (except for gen 1 ofc). i dont find them unbalanced or weird. all three of the new starters look and feel \"right\" to meGrass Monkey, that funky MonkeyI think he's cuteDat chunky monkeyIt's the mouth, it looks way too much like a beak instead of a chimp's mouth.Definitely fits the typing better than fire monkey I’ll tell you that much, even tho chimchar turned out sick, this guy makes more sense I thinkI think you mean grass chimcharYou mean Pansage? :PI like it, and I'll pick it goddammit![deleted]Kinda. To your credit, Poplio is a circus animal.Wait a second, they already HAD a monkey starter! And now that I look at it, the new water starter is just another mudkip!\n",
      "\n",
      "They really are running out of ideas.The gen that occurred before my puberty was the best one!\n",
      "\n",
      "At least that's what I gathered based on what I have seen when people talk about Pokemon.3rd were in my opinion I think 7th gen might've been my favourite. Litten's line was cool, but Popplio and Rowlet's evolutions were awesomely creative.Gen 1: classic but flawed as hell\n",
      "\n",
      "Gen 2: does everything gen 1 does but better and more\n",
      "\n",
      "Gen 3: reinvented the franchise but personally not a fan \n",
      "\n",
      "Gen 4: added a lot of depth and tons of tech improvements plus some of the best designed mons\n",
      "\n",
      "Gen 5: only gen I haven't played, some cool mons though \n",
      "\n",
      "Gen 6: absolutely fantastic, great mons gorgeous world\n",
      "\n",
      "Gen 7: hope you like tutorials because this game assumes you've never even played a video game in your life, cool designs mons thoughYep!!6 isnt bad either. But yeah. Definite drop in quality after gen 4. I don't know anything after Gen 2..... I will literally be Ash Ketchum exploring the unknown. Excited! (Also, does every game have the pokemon in previous generations in it too??)I'm 27 and was talking to a friend that's 18 about them when I realised I've been playing Pokemon since before she was born.How could I? it's in my heart that's why is not there.I don't think any of them feel out of place, I actually quite like Sobble but I'm a fan of reptiles so I'm biased. I guess Scorbunny looks like a cartoon character a bit. Yeah please not another fire/fighting either. They also have a thin white outline while none of the others do, so it makes them stand out against the black background.It's because they're new. We're not used to seeing them and immediately recognizing them as pokemon yet, so they feel off. By the time the game is out they'll fit in just the same as all the others.My gamble is: grass/fighting, fire/fairy, water/poison.I feel like gen 7 looks more out of place. The colors and design of those just seem soooo off compared to all the other ones. Gen 8 actually fits okay imo. Not my top 4 but also not the worst one in this lineup.A lettuce dinosaur wasn't already running out of ideas? Gen 5 water is an otter (didn’t realize until now that rhymes) and I still don’t know gen 6 grass... maybe a badger? \n",
      "\n",
      "Gen 7 was Hawaiian based and I feel like that is reason for why they look weird.  Are you waiting to place gen 8 until after the evolutions have been revealed?I'm offended by how low 1 and 2 are. Especially 2! My boy Cyndaquil was the shit!I agree. They should have stopped at gen 3. The Pokémon they are putting out now look ridiculous. Well, there’s Torkoal and Turtonator.They where cropped out of the trailer I assume, so the border was a result of that>Because ice cream and trash are not pokemon   \n",
      "\n",
      "And magnets, 2 colour balls and indistinct blobs of sewage are?\n",
      "But does he turn into a dragon? Yeah didn't think so.A study was done and a while back and mathematically squirtle was the best choice. It was based off the gyms and the E4. however I do believe Bulbasaur is worth the disadvantage.\n",
      "\n",
      "Source: https://blogs.scientificamerican.com/but-not-simpler/squirtle-i-should-choose-you-settling-a-great-pokemon-debate-with-science/ I was like ten when I played that game. I literally only used like three pokemon the entire time, and Venusaur was always the first out. IIRC, it got so bad that he was level 100 and the rest of my pokemon were in their 60-70s. Once I finally hit a point where I couldn't wipe with just Venusaur, I had to go back and train up like two or three others in order to actually win the game.\n",
      "\n",
      "And I didn't ever use items, so I had a ton of rare candies... That saved me a lot of time.To be honnest, if you really start thinking about it, and despite the common saying, Bulbasaur was the worst, while Squirtle was the best. Having ran the 1st generation starters countless time (both the original and their remake), this is the conclusion I've came to. \n",
      "\n",
      "&#x200B;\n",
      "\n",
      "Yeah ok, Charmander sucks at first, especially against the first two gyms. You do have to overlevel at that point, but after that the game is a piece of cake. It's \"hard\" at the begining, but easy after that. Also you get Pikachu as well as a Grass pokemon right before the second gym, should you need another pokemon. \n",
      "\n",
      "&#x200B;\n",
      "\n",
      "Squirtle is just so good all around. He destroyes Brock, gets Bite to destroy the second gym, and then is just simply too strong for the rest of the game.\n",
      "\n",
      "&#x200B;\n",
      "\n",
      "Bulbasaur is great against first two gyms, ok. But for the rest of the game? Its shit. Even in the early game its shit: the Mt. Moon is INFINITELY harder with bulbasaur than with the two other starters. Bulbasaur has a shit moveset and very poor attacks typing. Grass has only shit attacks compared to Water and Fire. And, on top of that, Bulbasaur has very few PP on his main attacks (such as razor leaf), meaning that you constently need to batrack to a hospital while battling trainers on roads, and its even worse when you are lost in a cave. Finally, Bulbasaur is utter shit against the Elite 4, probably the only of the 3 starters that can't actually solo this phase of the game except if you are extremely overleveled. \n",
      "\n",
      "&#x200B;\n",
      "\n",
      "When I was younger, I believed the trope that grass= easy, water = medium, fire = hard. It's actually water = easy, fire = medium, and grass = shit. Bulbasaur levelled faster and evolved earlier than the other two, which was its biggest advantageSquirtle into Blastoise, learn ice beam pwn dragons and grass typeswell thats the point. In the first game Venusaur was easy difficulty, Blasstoise was normal difficulty, and Charizard was hard difficultySame Except for gen 4 and 7 I always went with water. The owl was the only time ever I picked grass lol.Piplup because I preferred the pig more\n",
      "\n",
      "And the Seal didnt appeal to me atall last gen (didnt help that litten was hella cute)I instantly thought of the devil from the guitar hero campaign. I'd choose that starter hands down.Instantly thought of Baphomet from SMTI feel like that’d be a perfect three tier evolution to go from ground->rock->fire/steel which would also be unique af Gen 4 : Chimchar was my favorite Conversely, my Meganium was my first Level 100 pokemon in Silver since at a certain point I could just body slam and Razor Leaf everything.\n",
      "\n",
      "His name makes up for his design a bit I think. One of the most badass names in the series In the main series, only technically. Pokémon Yellow it was the starter of your rival. You couldn’t pick Eevee. I agree. I've always been a huge Pokemon fan but they have something special in their design/eyes/ something. \n",
      "\n",
      "You can look at them and not only are they the most adorable but you can see they are unique and have power potential in their first evolution. I bought Pokemon sun and i went with the owl Archer type and just look at it, it looks like something you'd find on route 2. Just a normal Pokemon, as do many of the rest. >there something about Gen 1 starters that it magic\n",
      "\n",
      "It's called nostalgia I think the anime also helped. Character development was huge since there was less pokemon to work with back then.The only time Reddit has ever downvoted complimenting a cat. This is historyThe gen 1ers are furious lmaoThese were my homiesThe pig made gen 5 slightly passable, I agree with the rest of your statement.agreed other than froggy The art style seems different though. Like they were made by a different artistEh, Gen 7 starters were pretty much immediately liked.He’s cute and he’s gonna grow up jacked His final evolution : ForestapeWhat about water mudkip? Wait...Yep, that's a word.we’ve also seen rabbits before and I have zero doubt in my mind that bunny is fire/fighting I was old af when 4th came out lolPenguin starter got mehI feel like your one of people who didn’t bother to get past Sun n Moons tutorial They don't have ALL the previous pokemon (That'd be a cool af game though) but all except B/W and B2/W2 games have at least some pokemon from previous gamesthat throws off the balance since poison has an advantage over fairy and fighting.I like the grass/fighting (and seems likely), but I’ve heard buzz that it’s fire/electric (which I would love, but would break the weakness triangle) and A wild guess at the last one I would like water/ghost, but again, breaks the secondary type triangle. No, i’d say a green.. duck? Amorphous blob? With a squiggly coming out of it is about where the creativity dried upGotcha thanks for the info! Im so freaking behind on Pokemon I could only name the first 3 generationsAfter I’ve played it. It’s a list of which generation’s main games I enjoyed mostNeither did Charmander (until gen 6)What a bullshit article with no actual data.  \n",
      "\" They note Squirtle learns more type-specific moves faster than the other  two, has the ability to learn a number of powerful moves like “Dig” and  “Mega Punch” that the other starters cannot,   \n",
      "\n",
      "\n",
      "Squrtle will have bubble at 8 and water gun at 15 while bulbasuar has leech seed at 7 and vine whip by lvl 13.  \n",
      "Charmander can learn dig and mega punch.  \n",
      "\"Pokémon enthusiats have challenged me on these points.\" Lol  \n",
      "Ah, I meant if you included evolutions then Venusaur (Bulbasaur) was the best. But, I may be misremembering the data. It *was* ages ago when I looked this up.  that article is written by a fucking noobOnion turtle. Few weeks ago I just finished Let's Go Pikachu, and in the Elite four battles about 80% of time I just used Pikachu with its exclusive moves. When it works, it works.The Pig was gen 5 Piplup was gen 4 along with Chimchar and TurtwigI wish empoleon looked more sleek and not so bulky. I would’ve loved it much more that way I got it! Fire/Psychic starter evolution that's a Goat Rockstar!It's the eyes. Modern pokemon changes the eye designs from the original triangle style to something else and it looks a little out of place. Maybe, maybe not. I feel the nostalgia a lot more whenever I play gold and silver (or the remakes) then when I think about the Gen 1 starters.Same i forgot about gyms in gen 5 so i had a level 24 tepig because you couldnt evolve them until you reached the next town The pig was the worst one. (not to say the others that generation were *good*, however...)I literally only know the pig from gen 5 cos of Inceneroar. Dude's a beastWell, there is a white outline around them because theres a limited amount of official pictures currently available so whoever made this used a low quality cut and paste of a photo, cause thats the only thing available.\n",
      "\n",
      "&#x200B;\n",
      "\n",
      "You also realize nearly every single Pokemon you see here was drawn by a different artist right? Thats kinda how life worksGen 7? Sun and Moon? That was one of the worst in my opinion by far. Only ones worse are 3 and 4.Yea i'm imagining some sort of silver back green gorillaI'd like to see a jacked up gorilla that spins a log as a bo staff (grass/fighting).I approve of thisI also like gen four. Was 21ish when it came outLooking like cheap knockoffs Of the first generation beat the whole game, but yeah 5 hours of tutorials made me think about quitting.Aw man. Thanks for the info though! Too many games coming out this year (again)!I realized later and thought it might be water/steel??? But I don't get that feel from sobble...How about Dark, Fighting, and Psychic? ??? Bulbasaur only gets solar beam as an upgrade to those moves however, squirtle gets access to surf, hydro pump and bubblebeam which are more reliable options. Charmander gets flamethrower and fireblast for powerful STAB as well. So late game, venusaur doesn't hit as hard (not its job competitively, in fairness, but who plays defensively against the AI outside the battle tower?)\n",
      "\n",
      "In terms of the whole game, Bulbasaur rocks the first 3 gyms with SE attacks for the first two and a resist on the third. But after that, it only hits SE against gym 8, and only against one pokemon. It's resisted by 4, 6 and 7, hit super effectively by 5 and 7. It's also hit hard by loreleis ice moves in the E4, although it can hit back against the water types. It struggles against Lance as well due to dragonites 4x resist, and many of his others are part flying as well.\n",
      "\n",
      "Charmander has similar difficulties. It's hit SE by 1 and 2, neutral against 3. It's SE against 4 and kind of against 6, due to the use of bug types. It's neutral to 5, resists 7 but is resisted in turn. 8 is interesting, because Charizard is immune to ground moves but is wrecked by rock moves. E4 sees it struggle against most of loreleis, hit Bruno hard with flying moves, neutral against Agatha, and struggles against Lance due to aerodactyl, Gyarados and dragonite.\n",
      "\n",
      "That leaves squirtle. Middling early game: SE against 1, resists 2 whilst also resisted, weak against 3 and 4. But then it's neutral against 5 and 6, SE against 7 and 8, resists lorelei for the most part, neutral against Bruno and Agatha, then holds up best against Lance as it can pack ice moves for dragonite, and water moves against Charizard, aerodactyl. Neutral hits from Gyarados.\n",
      "\n",
      "Broadly speaking, squirtle is best for the long game when solely focusing on starters. Bulbasaur is great at the start but no so much late on. Charmander needs a lot of support from team mates and struggles to carry on its own purely from a typing point of view.Ok so i'll be completely I remembered there was an article about squirtle mathematically being the best and so i did a quick google~~it was also late~~. I read the first couple paragraphs and assumed it was the right article. I still believe in Squirtle being the best. I apologize for the weird articleFor me Bulbasaur start is the best because there are other really good Pokemon that use fire and water but Bulbasaur is definitely the best grass IMOBulbasaur was a great choice because its Grass typing was super effective against the first two gym leaders. The third (Lt. Surge) used Electric types - not very effective against Grass. It’s poison typing also made it resistant to the fourth Gym leader, Erika (Grass) and Koga (Poison).\n",
      "\n",
      "You were vulnerable to Sabrina (Psychic) and Blaine (Fire) but they were late enough that you really should have something else deal with them by that stage.Woops I meant the other one. With the seashell on the stomach Oshawott. Passed on that oneSerperior was good.Go say that to Hamstars face!Which is funny because Incineroar is from Gen 7. \n",
      "\n",
      "&#x200B;\n",
      "\n",
      "I assume you meant Emboar?Oh sicko mode. Well thanks for clarifying Worst games maybe, but the starters were hugely popular from the moment we saw them.That’s be badass.  Call it YuccakongWhat do silver and green make? Like, ugly green, right?Had no idea there was a penguin in gen 1 \n",
      "\n",
      "What's it called?I know this pain too well my friend...too well....My guess is water electric tbh because its fin is yellowCharizard is a fire-flying type.\n",
      "\n",
      "Mega Charizard X is fire-dragon type, and was introduced in gen 6Your post had more insightful information than that entire article.Thanks for the info, the article was weirdIt's been awhile so I'm blanking on who's the next best water from Gen 1 after Blastoise. I can only remember 3 of the 6 on my primary team (Charizard, Gengar, Raichu) and I'm not sure if I had a water type there. Id say theres less good fire options than grass... but honestly I dont think it matters at all, if you want the \"best setup\" then the most important step is getting a nidoran and a moon stone so you can breeze through the game with a level 14 nidoking/queen.. I always just go with my favorite pokemon\n",
      "\n",
      "Edit: for the record, what I mean by this is more that Grass has even better options than Fire, I dont think Fires options are bad at all. Im not saying this as a charizard fanboy\n",
      "\n",
      " Example; I had a fire-water-grass trinity in Lets Go Pikachu (a game where you  can have all starters) and I used Arcanine, Victreebell and PoliwrathWas the best, the other two had good first stages.hahaha yess, i think its because incineroar is in smash and I got confused between the two and forgot the nameIm not absolutely positive, its just my guess based on the outline. \n",
      "\n",
      "&#x200B;\n",
      "\n",
      "But I mean, these starters go over the course of like twenty years, artists will change. I feel like the \"Pokemon Look\" is whatever its reinvented as that gen. I always assumed that was the idea.Thats contrary to my experience, but to each their own. im calling it harambe and you cant stop meWtf Nintendo, u r home go drunkA lot of it is just preference but I've always thought Arcanine and Rapidash are just as good as Charizard. I've never felt Victreebel or Vileplume are as strong as Venusaur. I love rocking the Muk cause its strong AF and is rarely used. Between arcanine, rapidash, ninetales and moltres fire is very well covered.To be fair, Emboar in smash would be great. Id say exeggutor, victreebell and vileplume are a better set of options than arcanine, rapidash and ninetales.\n",
      "\n",
      "I dont really want to count moltres at all because Ive always thought using legendaries in playthroughs isnt fun but yeah if you want to take moltres then hes a pretty good choice (although he only becomes available quite late into the game)\n"
     ]
    }
   ],
   "source": [
    "###Checking the content of str_comments\n",
    "\n",
    "print(str_comments)"
   ]
  },
  {
   "cell_type": "code",
   "execution_count": 16,
   "metadata": {},
   "outputs": [],
   "source": [
    "###Then, I counted how many times the words grass, fire, and water were mentioned by simply\n",
    "#using the count() method\n",
    "#Noting that the words may be case-sensitive, I counted Grass, Fire, and Water as well\n",
    "#I also created a dictionary with specified keys to store all the counts\n",
    "\n",
    "all_dict = {\"grass\":[], \"fire\":[], \"water\":[], \n",
    "            \"bulbasaur\": [], \"charmander\": [], \"squirtle\":[],\n",
    "            \"chikorita\":[], \"cyndaquil\":[], \"totodile\":[],\n",
    "            \"treecko\": [], \"torchic\": [], \"mudkip\":[],\n",
    "            \"turtwig\":[], \"chimchar\":[], \"piplup\":[],\n",
    "            \"snivy\": [], \"tepig\": [], \"oshawott\":[],\n",
    "            \"chespin\":[], \"fennekin\":[], \"froakie\":[],\n",
    "            \"rowlet\": [], \"litten\": [], \"popplio\":[],\n",
    "            \"grookey\": [], \"scorbunny\": [], \"sobble\":[]}"
   ]
  },
  {
   "cell_type": "code",
   "execution_count": 17,
   "metadata": {},
   "outputs": [],
   "source": [
    "all_dict[\"grass\"].append(str_comments.count(\"grass\") + str_comments.count(\"Grass\"))"
   ]
  },
  {
   "cell_type": "code",
   "execution_count": 18,
   "metadata": {},
   "outputs": [],
   "source": [
    "all_dict[\"fire\"].append(str_comments.count(\"fire\") + str_comments.count(\"Fire\"))"
   ]
  },
  {
   "cell_type": "code",
   "execution_count": 19,
   "metadata": {},
   "outputs": [],
   "source": [
    "all_dict[\"water\"].append(str_comments.count(\"water\") + str_comments.count(\"Water\"))"
   ]
  },
  {
   "cell_type": "code",
   "execution_count": 20,
   "metadata": {},
   "outputs": [],
   "source": [
    "###I repeated the same steps for each pokemon"
   ]
  },
  {
   "cell_type": "code",
   "execution_count": 21,
   "metadata": {},
   "outputs": [],
   "source": [
    "all_dict[\"bulbasaur\"].append(str_comments.count(\"bulbasaur\") + str_comments.count(\"Bulbasaur\"))"
   ]
  },
  {
   "cell_type": "code",
   "execution_count": 22,
   "metadata": {},
   "outputs": [],
   "source": [
    "all_dict[\"charmander\"].append(str_comments.count(\"charmander\") + str_comments.count(\"Charmander\"))"
   ]
  },
  {
   "cell_type": "code",
   "execution_count": 23,
   "metadata": {},
   "outputs": [],
   "source": [
    "all_dict[\"squirtle\"].append(str_comments.count(\"squirtle\") + str_comments.count(\"Squirtle\"))"
   ]
  },
  {
   "cell_type": "code",
   "execution_count": 24,
   "metadata": {},
   "outputs": [],
   "source": [
    "all_dict[\"chikorita\"].append(str_comments.count(\"chikorita\") + str_comments.count(\"Chikorita\"))"
   ]
  },
  {
   "cell_type": "code",
   "execution_count": 25,
   "metadata": {},
   "outputs": [],
   "source": [
    "all_dict[\"cyndaquil\"].append(str_comments.count(\"cyndaquil\") + str_comments.count(\"Cyndaquil\"))"
   ]
  },
  {
   "cell_type": "code",
   "execution_count": 26,
   "metadata": {},
   "outputs": [],
   "source": [
    "all_dict[\"totodile\"].append(str_comments.count(\"totodile\") + str_comments.count(\"Totodile\"))"
   ]
  },
  {
   "cell_type": "code",
   "execution_count": 27,
   "metadata": {},
   "outputs": [],
   "source": [
    "all_dict[\"treecko\"].append(str_comments.count(\"treecko\") + str_comments.count(\"Treecko\"))"
   ]
  },
  {
   "cell_type": "code",
   "execution_count": 28,
   "metadata": {},
   "outputs": [],
   "source": [
    "all_dict[\"torchic\"].append(str_comments.count(\"torchic\") + str_comments.count(\"Torchic\"))"
   ]
  },
  {
   "cell_type": "code",
   "execution_count": 29,
   "metadata": {},
   "outputs": [],
   "source": [
    "all_dict[\"mudkip\"].append(str_comments.count(\"mudkip\") + str_comments.count(\"Mudkip\"))"
   ]
  },
  {
   "cell_type": "code",
   "execution_count": 30,
   "metadata": {},
   "outputs": [],
   "source": [
    "all_dict[\"turtwig\"].append(str_comments.count(\"turtwig\") + str_comments.count(\"Turtwig\"))"
   ]
  },
  {
   "cell_type": "code",
   "execution_count": 31,
   "metadata": {},
   "outputs": [],
   "source": [
    "all_dict[\"chimchar\"].append(str_comments.count(\"chimchar\") + str_comments.count(\"Chimchar\"))"
   ]
  },
  {
   "cell_type": "code",
   "execution_count": 32,
   "metadata": {},
   "outputs": [],
   "source": [
    "all_dict[\"piplup\"].append(str_comments.count(\"piplup\") + str_comments.count(\"Piplup\"))"
   ]
  },
  {
   "cell_type": "code",
   "execution_count": 33,
   "metadata": {},
   "outputs": [],
   "source": [
    "all_dict[\"snivy\"].append(str_comments.count(\"snivy\") + str_comments.count(\"Snivy\"))"
   ]
  },
  {
   "cell_type": "code",
   "execution_count": 34,
   "metadata": {},
   "outputs": [],
   "source": [
    "all_dict[\"tepig\"].append(str_comments.count(\"tepig\") + str_comments.count(\"Tepig\"))"
   ]
  },
  {
   "cell_type": "code",
   "execution_count": 35,
   "metadata": {},
   "outputs": [],
   "source": [
    "all_dict[\"oshawott\"].append(str_comments.count(\"oshawott\") + str_comments.count(\"Oshawott\"))"
   ]
  },
  {
   "cell_type": "code",
   "execution_count": 36,
   "metadata": {},
   "outputs": [],
   "source": [
    "all_dict[\"chespin\"].append(str_comments.count(\"chespin\") + str_comments.count(\"Chespin\"))"
   ]
  },
  {
   "cell_type": "code",
   "execution_count": 37,
   "metadata": {},
   "outputs": [],
   "source": [
    "all_dict[\"fennekin\"].append(str_comments.count(\"fennekin\") + str_comments.count(\"Fennekin\"))"
   ]
  },
  {
   "cell_type": "code",
   "execution_count": 38,
   "metadata": {},
   "outputs": [],
   "source": [
    "all_dict[\"froakie\"].append(str_comments.count(\"froakie\") + str_comments.count(\"Froakie\"))"
   ]
  },
  {
   "cell_type": "code",
   "execution_count": 39,
   "metadata": {},
   "outputs": [],
   "source": [
    "all_dict[\"rowlet\"].append(str_comments.count(\"rowlet\") + str_comments.count(\"Rowlet\"))"
   ]
  },
  {
   "cell_type": "code",
   "execution_count": 40,
   "metadata": {},
   "outputs": [],
   "source": [
    "all_dict[\"litten\"].append(str_comments.count(\"litten\") + str_comments.count(\"Litten\"))"
   ]
  },
  {
   "cell_type": "code",
   "execution_count": 41,
   "metadata": {},
   "outputs": [],
   "source": [
    "all_dict[\"popplio\"].append(str_comments.count(\"popplio\") + str_comments.count(\"Popplio\"))"
   ]
  },
  {
   "cell_type": "code",
   "execution_count": 42,
   "metadata": {},
   "outputs": [],
   "source": [
    "all_dict[\"grookey\"].append(str_comments.count(\"grookey\") + str_comments.count(\"Grookey\"))"
   ]
  },
  {
   "cell_type": "code",
   "execution_count": 43,
   "metadata": {},
   "outputs": [],
   "source": [
    "all_dict[\"scorbunny\"].append(str_comments.count(\"scorbunny\") + str_comments.count(\"Scorbunny\"))"
   ]
  },
  {
   "cell_type": "code",
   "execution_count": 44,
   "metadata": {},
   "outputs": [],
   "source": [
    "all_dict[\"sobble\"].append(str_comments.count(\"sobble\") + str_comments.count(\"Sobble\"))"
   ]
  },
  {
   "cell_type": "code",
   "execution_count": 45,
   "metadata": {},
   "outputs": [
    {
     "name": "stdout",
     "output_type": "stream",
     "text": [
      "{'grass': [68], 'fire': [68], 'water': [60], 'bulbasaur': [22], 'charmander': [15], 'squirtle': [16], 'chikorita': [5], 'cyndaquil': [7], 'totodile': [10], 'treecko': [6], 'torchic': [5], 'mudkip': [13], 'turtwig': [6], 'chimchar': [8], 'piplup': [6], 'snivy': [4], 'tepig': [2], 'oshawott': [1], 'chespin': [6], 'fennekin': [4], 'froakie': [4], 'rowlet': [5], 'litten': [4], 'popplio': [1], 'grookey': [2], 'scorbunny': [4], 'sobble': [7]}\n"
     ]
    }
   ],
   "source": [
    "###Checking if I had successfully appended the values to my dictionary keys\n",
    "print(all_dict)"
   ]
  },
  {
   "cell_type": "code",
   "execution_count": 46,
   "metadata": {},
   "outputs": [],
   "source": [
    "###I wanted to visualize the results so I turned this dictionary into a dataframe\n",
    "df_all = pd.DataFrame(all_dict)"
   ]
  },
  {
   "cell_type": "code",
   "execution_count": 47,
   "metadata": {},
   "outputs": [
    {
     "data": {
      "image/png": "[encoded data removed]",
      "text/plain": [
       "<Figure size 432x288 with 1 Axes>"
      ]
     },
     "metadata": {
      "needs_background": "light"
     },
     "output_type": "display_data"
    }
   ],
   "source": [
    "###I could visualize my dataframes using the .plot.bar method in pandas\n",
    "\n",
    "vi_df_all = df_all.plot.bar(rot=0)"
   ]
  },
  {
   "cell_type": "code",
   "execution_count": 48,
   "metadata": {},
   "outputs": [
    {
     "name": "stdout",
     "output_type": "stream",
     "text": [
      "Everybody be hating my main stay grass types\n",
      "I'll be 6/8 Gens picking water starter.\n",
      "\n",
      "Didnt even realize how much I prefer the water types most of the time\n",
      "Treecko still styling in everyone else\n",
      "Fuck... I only know Pokemon up to the 3rd gen... \n",
      "Remaining Fire-types: Ox, Goat, Horse, and Snake.\n",
      "\n",
      "I, for one, would love to see a Fire/Poison-type.\n",
      "Gen 2 was my favorite. Except Chikorita, the worthless bastard. But Totodile and Cyndaquil made up for it \n",
      "All the starters? I think pikachu is going to have one heck of a surprised face when he doesn't see himself on this!\n",
      "I still think the first were the best.\n",
      "\\*Checks Chinese Zodiac\\* Yep, now we got a Rabbit in the fire starters\n",
      "You know that owl is a grass type just cause he has a green bow tie.\n",
      "Bulbasaur! Charizard! Squirtle! \n",
      "\n",
      "Chiquorita! Uhmm... Totodile! \n",
      "\n",
      "Hmmm... Torchick! Mudkip! \n",
      "\n",
      "Uhhh.... Hmmmm... Yeahhh... \n",
      "\n",
      "Riiiiiight.... \n",
      "\n",
      "Even if I buy the new gen I doubt I'll remember their names... :P\n",
      "Mudkip will always be my spirit-mon\n",
      "Piplup is still my favorite\n",
      "Maybe that's purely because of my age and nostalgia, but there's a pretty hard transition from \"which one is the coolest?\" to \"which one is the most bearable?\" after Gen 4.\n",
      "Mudkip supreme\n",
      "Squirtle man through and through, but I'm pretty sure every gen I picked the fire starter otherwise.\n",
      "The new grass type looks like a furby and if my childhood has anything to say, its haunted by default.\n",
      "\n",
      "THE SPIRIT OF THE F U R B Y HAS FOUND A NEW H O S T\n",
      "Something about these new fellars is off puttin'\n",
      "Idk how i feel about the grass monkey\n",
      "Honestly, in terms of appearance, I feel like the starters get worse as time goes on. I appreciate how the first 3 Gen’s have relatively simple designs that look like they could be real creatures. As time goes on, it feels like the Pokemon just get more and more over designed, adding unnecessary markings and appendages for no real reason. \n",
      "Anybody think that the fire starters closely resembled the Chinese zodiac?\n",
      "My only complaint is that Scorbunny and Chespin have the exact same face and I can never unsee it\n",
      "Cyndaquil was my first Pokémon on Crystal. He’s still my favorite starter (charmander is a close second).\n",
      "They never really improved on the originals, imo\n",
      "\n",
      "&#x200B;\n",
      "1st-3rd gen personal favorite \n",
      "Interesting to see the art direction change over 20 years.  The new starters look like circus animals or bad PBS cartoon animations and a lot less like wild animals.  Just my two cents.\n",
      "That would make a cool mousepad\n",
      "my first from each are, Bulbasaur, Totodile, Mudkip, Chimchar, Snivy, Froakie(?), Owl Boi\n",
      "I was a Gen 3 kid, I could never decide which starter to pick up so all 3 have big meaning to me\n",
      "Gen 2 is my favorite.  But I’ve been 7/7 in picking fire Pokémon in first play through so far\n",
      "Too many of these look similar. This frustrates me \n",
      "Chosen first starters per generation:\n",
      "\n",
      "Charmander, Totodile, Treeco, don't remember as I didn't like any of them, Snivy, Froakie, and Rowlet.\n",
      "\n",
      "Undecided between Scorbunny and Sobble for Sword/Shield.\n",
      "Grass monkey one doesn't that bad, it just forsed to be near greatest round owl in the universe, so it looks slightly worse\n",
      "4th gen was the last good one\n",
      "Gen 1 still the best\n",
      "I've only played the games on the left.\n",
      "I picked fire starter since I was tot,  ever single time.... This bunny though...ugh... making this choice hard.  Monkey is too adorable \n",
      "nothing beats gen 1 still\n",
      "Three of these are not like the others...\n",
      "what even happened to the water starters Gen 5 onwards? they all look so dumb xD\n",
      "It was cool when Pokémon looked like monsters and not marshmallows glued together by someone with Parkinson’s.\n",
      "Literally don't know any of them after Black and White. Welp thats what I get for not being able to afford a 3ds\n",
      "Since it goes 2 fire whatever 3 fire fighting 2 fire whatever can we confirm another fire fighting\n",
      "All the generations have exactly 1 clear 4 legged pokemon. Although the last one is a little less clear I guess since i was gonna say sobble is a quadruped  but I could be wrong. Also if you look among them you can see that a lot share a similar design or body structure, such as Bulbasaur, turtwig, chickorita, and mudkip. (I probably didnt spell the names right but idrc)\n",
      "Scorbunny and chespin have to be related... They have the same face\n",
      "Olha esses arrombadinhos fofos do caralho\n",
      "We need a water ape starter for the next generation. A sea monkey?\n",
      "Gen 1 baby. Nothing will ever beat the feeling 8 year old me had opening that bday present that contained Pokémon red and a GBC.\n",
      "OG3 are by far the best design.\n",
      "I think this is the first gen since 4 where I want all 3.\n",
      "For all that fire is my favorite type I actually tend to chose the grass starter. I’m 4:2 grass:fire for starter preference for the previous gens with gen 2 being a tie. I’ve never chosen a water starter though this gen may be the first depending on how their final evolutions look.\n",
      "This is the first time I'll probably do green instead of red. \n",
      "Missing one\n",
      "did anyone else get let down by the names they had chose\n",
      "can't wait to see the fan art guesses of what the new starters evolve into\n",
      "Anyone know why after gen2 they started making all the water types soft and dopey ?\n",
      "And Bulbasaur is still the absolute best.\n",
      "they better not pull another fennekin with sobble\n",
      "Omg does the baby red cat turn into the buff red cat in Smash Bros?!? \n",
      "\n",
      "Boy am I behind on Pokémon #gold4lyfe\n",
      "2\n",
      "\n",
      "1\n",
      "\n",
      "4\n",
      "\n",
      "3\n",
      "\n",
      "8\n",
      "\n",
      "6\n",
      "\n",
      "5\n",
      "\n",
      "7\n",
      "\n",
      "\n",
      "Kinda seems like they got more cartoony and less animal like as time went on.\n",
      "Missing Pikachu, I got him in the yellow addition  :D  (old one not the new one)\n",
      "Ugh being an adult sucks. This is the fourth set of starts to come out since I last played and beat one of these. \n",
      "\n",
      "I just hope my oldest daughter is in to it so I can get caught up. \n",
      "They stick out so badly. When I saw the Alolan starters mixed in with the rest, they fit in. Same with Kalos starters. \n",
      "Honestly I love all of their pre-evolution designs, but it’s gen 5-6 where I started losing interest only in the final evolutions. They seem to become more anthro humanoid and less like fun creatures. I do love all of the first and second forms though!\n",
      "charmander still the best tell me I'm wrong\n",
      "Wtf are those abominations past mudkip torchic and treeko\n",
      "Which gen do you think was the hardest decision?\n",
      "Chespin and new fire starter look exactly the same\n",
      "What's with Treecko and the T-pose\n",
      "I went fire first 4 gens, then water another 2 and been grass since Rowlett and keeping it that way. \n",
      "Single (aka water potato) is best gen 8 starter imo\n",
      "It's probably because I'm older but honestly, I feel like since gen 4 onwards the starters begin to feel pretty... idk. \"manufactured\"?\n",
      "I have a special place in my heart for Gen 6\n",
      "My first was temping who was yours\n",
      "Gotta love that Gen 4. But tbh, I would just catch a Starly and become one with the god we know as Staraptor.\n",
      "\"all\"\n",
      "Forgot Pikachu \n",
      "My starters from Gen1 to Gen8:\n",
      "\n",
      "1. Grass\n",
      "2. Water\n",
      "3. Grass\n",
      "4. Water\n",
      "5. Grass\n",
      "6. Fire ( because my SO took Water)\n",
      "7. Water (because my SO took Grass)\n",
      "8. Water (because I don't like the others and my SO takes Water, too).\n",
      "\n",
      "It could have been great... Without my SO, it would have been 4x water, 4x grass, perfectly balanced.\n",
      "Pokemojis\n",
      "I like that little grass monkey\n",
      "Mudkip os hands down the best\n",
      "the new three are just fusions of older gens\n",
      "I'm still waiting for them to get around to making a sheep fire starter.\n",
      "GEN 3 FTW! I always choose Treecko, good stats all round, good movesets and can learn some TMs that I want. Combo that with Gardevoir and I'm set. A two Pokemon army, just Treecko and Gardevoir. \n",
      "\n",
      "The rest of the lineups are only made up of Zigzagoon to grab random items and equipping them with HMs. Good times.\n",
      "What the hell is the gen-5 water starter with the penis on its belly?\n",
      "My love extends to the first 3 sets. Mayb 4 max\n",
      "I can't believe Unova is already three gens past, I feel so old.\n",
      "I feel like the art style shifted after gen 2 and they all look relatively the same. \n",
      "Grass : looks like an easy Grass/Fight. But I'd really hope it turns into Ape Commander-ish and become Grass/Steel\n",
      "\n",
      "Fire : Normal never lose typing, and no one gain Normal type, and having Normal type for starter sounds dumb, Fire/Fight isn't meme anymore so they could comeback anytime, yettt I don't like it, so.. Fire/Ghost? Fire/Flying? \n",
      "\n",
      "Water : I know he looks like Mudkip v2, but I hope he gets fancy typing, Water/Dragon pls, lol. \n",
      "\n",
      "Dual typing isn't staple but it always cool having dual type starter and I'd really hope they gone into cool stuffs, match with Sword / Shield theme. \n",
      "\n",
      "Pls I'm fine with cute things, I love Gen IV's amity square but PLS no more starter like Primarina, or at least swapped the gender\n",
      "The new fire type just looks like a red chespin to me...\n",
      "Pokémon black and white 2 brought me some of the happiest memory’s I’ve every experienced.\n",
      "Tepig and Turtwig will always be my favorite starters! They're just so cute! I want them!\n",
      "The new fire and water starters look like a mix of a couple previous gens and I hate it yet love it at the same time\n",
      "\n",
      "I think I stopped with Chimchar back in 07\n",
      "Maybe I'm crazy, but the fire starters all seem to belong to the Chinese zodiac. Dragon, mouse, chicken, monkey, pig, dog, tiger, and rabbit here. Just missing goat/sheep, cow, horse, and snake...maybe in later editions?\n",
      "Man Gen 1 and 2 were just the best. \n",
      "I just realised, I've gone grass-water-grass-water every gen since the beginning.\n",
      "Sinnoh starters >>>>>>\n",
      "Know gen 1 and 2, the rest are a mystery to me.\n",
      "Pikachu is missing.\n",
      "Wheres pikachu?\n",
      "Grooky looks like a crappy fan-made starter \n",
      "Fuck I’m getting old \n",
      "It’s like...10 minutes \n",
      "There's one thing I noticed about the starter/tier-1-evolution pokemon of mid and later generation pokemon that has been off-putting and seperated from the beginning pokemon, especially the first generation. The early generations had the \"younger\" pokemon featured with small heads. For some reason the visualization of Charmander and Squirtle with small hears was more appealing and seemed more realistic. It seems the larger, even slightly larger, heads of the \"younger\" pokemon seems less realistic, even though we're talking about a cartoon. Smaller heads makes me think youth, weak, etc. but that that can be strengthened through evolution.\n",
      "Looking at this now is the first time I realise I basically always choose fire starters...\n",
      "Look how they massacred my boys\n",
      "Do you even MUDKIP BRO??\n",
      "fucking convoluted \n",
      "None will ever be as good as the original 3.\n",
      "I can see the changes in art styling between the generations, especially in the eyes.\n",
      "Anyone else noticed rabbit is albino \n",
      "Did anyone else hate the last game I think it was ? The Hawaii theme was making me cringe so hard it was unplayable\n",
      "Greninja FTW\n",
      "I don't even know which games are half of those from.\n",
      "I only know the first three top left...\n",
      "I think this is the first generation where I choose the Fire starter.\n",
      "Cool how they made another Mudkip.\n",
      "Been a solid fire starter.\n",
      "\n",
      "I also always take the fire starter Pokemon.\n",
      "I’m reserving my opinion until I see the evolutions. I have hope...\n",
      "gen 3 will always have a place in my heart\n",
      "Glad to see that the developers finally broke the cycle of creating uglier and uglier Pokemon with every new generation. Judging from the looks of the starters at least.\n",
      "Ive been playing a lot of pokemon go recently and have some of these and didnt even realise they were starters(the last pokemon game i bought and played was GBA fire red. \n",
      "At this point, I realised how old I actually am. I realized that 4th gen is now actually the first half of the Pokémon life-cycle.\n",
      "It all stopped after gen 4 for me\n",
      "1st gen was the best. \n",
      "So the next community day after treecko will be Torchic looking forward to that.\n",
      "The last time I played a Pokemon game was when Diamond first released, and all I remember is thinking about how fresh and new everything looked. I've never even seen the starters past Gen 4. God damn it's been a long time.\n",
      "I don't get it how each next generation looks more ratarded than the previous ones. Originals just look like real pokemon, not like some shity Nikelodeon characters.\n",
      "Cyndaquil best starter ever.\n",
      "\n",
      "*FIGHT ME*\n",
      "Straight up decline in character design, te further they go, the more details/less iconic designs. Plus stahp with humanized pokemon noone wants to make humanoids fight.\n",
      "I'd really love it if we got something different for the typings. Maybe Psychic-Fighting-Dark or some other checks and balance trio of starters.\n",
      "\n",
      "&#x200B;\n",
      "\n",
      "I know Grass, Fire, water is THE thing, but I would love to see something mix it up.\n",
      "This is a lie!!! Where is pikachu and eevee. They are starters.\n",
      "Gen 4 <3\n",
      "Gen 1-5 are the only ones ive played and liked the starter pokemon, the rest look off design wise. Personally Gens 1-3 still be my ultimate favorites.\n",
      "Totodile is still my all-time favourite\n",
      "Litten is the only one that really doesn’t fit.\n",
      "They got shittier each generation\n",
      "you forgot about pikachu, it was start pokemon in pokemon yellow...\n",
      "What’s with monkey starters?\n",
      "Wow.  I didnt realize there were this many... gen 1 was magical enough.  I cant even imagine trying to keep up now.  Im so old\n",
      "Gen1&2 will forever be best \n",
      "Damn, I only recognize the left side at this point. We old fam \n",
      "Everything on the right side seems odd for me. I'm old.\n",
      "Gen 1 is so iconic. All 3 are fantastic.\n",
      "Typhlosions eruption is bad ass and it was my favorite starter. I think it's lazy and sad how a lot starters  evolve into some bi bedal anthropomorphic freak. The fire cat from sun and moon was very cool until it turned into a lame ass wrestler. \n",
      "I have missed a lot of Pokémon. Holy shit. \n",
      "Treecko final evolution is my favorite.\n",
      "You'll never beat the original three in my opinion. Creatively designed and named, statistically very good and memorable.  \n",
      "Why are the first 2 gens so perfect and everything else is just blah they just get really out there and don’t even come close to looking like they could be real animals. I think that’s what makes them bad. Besides the fire type in gen 6 they pretty much all suck. The water type style also goes from cool or intimidating to just silly after gen 2 \n",
      "please give the bunny flaming ears when it evolves PLEASE GIVE IT FLAMING EARS\n",
      "Gen 8 and my unintentional Grass/Fire/Grass/Water/repeat pattern still holds true. Really looking forward to seeing Sobble's evolutions.\n",
      "Bulbasaur, Charmander, Squirtle, Chicarita, Cidaquill, Toadadial, pass, chick-something, mudkip, duno, chimchar, piplup, I have no clue on the rest!\n",
      "The new ones look like knock off Pokémon \n",
      "At this point I think the only thing that will make starters exciting again is the day they stop being nothing but Grass / Fire / Water.\n",
      "Yet no ones ever beaten Piplup as best starter\n",
      "In order from first gen to last, my faves are: Grass, water, fire, water, water, grass, grass, grass.\n",
      "\n",
      "Newest one might change of course... Sobble is really cute and might win out.\n",
      "All the Hoenn starters were my favorite in each of their respective base typings... However, the Galar region's starters maasively appeal to me. My favorite starters might actually change from the Hoenn starters to Galar starters... This could be the first time I get new favorite starters since Hoenn, and a change for all three typings too! I am very excited to see their final forms.\n",
      "I literally only catch cute pokemon and my starter choice is no different. I'd go fire for gens 3,6, and 8. Water for 1,4,5, and 7 then grass for gen 2\n",
      "Why did they change the eyes\n",
      "What? No love for Pokemon Yellow version?\n",
      "I stopped after gen 4, but I think I'm ready again with the new gen and It looks really good on the switch.\n",
      "I went fire up to Gen 5, then water for gen 6 and 7, and probably water again for gen 8.\n",
      "Bobbies\n",
      "[deleted]\n",
      "You can see where they started to run out of ideas. Inevitable I guess\n",
      "lol gen 7 looks SO weird!\n",
      "\n",
      "also what is the water pokemon from gen 5 and the grass pokemon from gen 6 suppose to be?\n",
      "Gen 1 and 4 are the best.\n",
      "My list of my favorite Pokémon generations:\n",
      "\n",
      "1. Gen 3\n",
      "\n",
      "2. Gen 7\n",
      "\n",
      "3. Gen 2\n",
      "\n",
      "4. Gen 1\n",
      "\n",
      "5. Gen 4\n",
      "\n",
      "6. Gen 5\n",
      "\n",
      "7. Gen 6\n",
      "I have always loved Pokemon. I'll admit that I was really upset with Pokemon Let's Go Eevee/Pikachu. I refused to buy it and even refused to get the demo. Going to hold judgement until I see more of the Galar region but I'm hopeful.\n",
      "Look at the first 6 vs the last six. Man I grew up in a beautiful time.\n",
      "Gen 1-2 are my personal fave. I don't mind gen 3-5.  \n",
      "\n",
      "\n",
      "I don't want to talk about 6-8..\n",
      "The new ones just don't look like Pokemon starters. They look fan made. \n",
      "I quit at gen 3. They started to be generic blobs. Devoid of new ideas. \n",
      "I can’t name any on the right side and I’m 21. I’m old man \n",
      "black and white wrost Gen\n",
      "Best Grass: Bulbasaur and Chikorita  \n",
      "Best Fire: Charmander and Fennekin  \n",
      "Best Water: Squirtle and Totodile\n",
      "\n",
      "(Score: G1, G1, G1, G2, G2, G6)\n",
      "\n",
      "Gest G1: Charmander  \n",
      "G2: Totodile  \n",
      "G3: Torchic... right up until it evolves.  \n",
      "G4: Ew. Turtwig I guess.  \n",
      "G5: Not a single good one there.  \n",
      "G6: Fennekin.  \n",
      "G7: Litten... Until it evolves twice.  \n",
      "G8: The Water one looks neat.\n",
      "\n",
      "(Score: FireX4, WaterX2, Grass X1)\n",
      "Nothing will ever beat the original trio. They are the Holy Trinity. \n",
      "and i still only know thr names of gen 1\n",
      "Hate to be \"that guy\" but this gen has the ugliest starters. The designs just seem... busy?\n",
      "\n",
      "Ive got no nostalgia for past gens aside from the first one but.. yeah this one is just weird and looks like mismatches of the past gens.\n",
      "I played the first 2 Gens in my childhood when they came out.. but man.. everything after the fourth Gen looks so terrible for me.. like.. throwing different  geometric shaped pieces on a big/small clay figure.. painting it and calling it the day. Even Missingno had more style imo.\n",
      "As someone who picks water every time (except for my boy turtwig because turtles are adorable) I think I might go with the monkey this time around.\n",
      "Gen 1 can't be beat. \n",
      "I’ve picked fire for all except gen 2 cuz cyndaquil is fucking stupid, I’ll have to see the evolutions of the new game before I pick for this one\n",
      "Snivy all the way!\n",
      "Damn they added a lot. I could only name the first three sets.\n",
      "What would be the best starter three of you could mix and match? \n",
      "\n",
      "My pick:\n",
      "\n",
      "Rowlet, Charmander, Totodile\n",
      "Red and Blue FTW\n",
      "I've always been a fan of turtle Pokemon and I'm waiting on a fire turtle pokemon\n",
      "Why is the right side of the image blank?\n",
      "Wrong.  Not even a Pokémon fan and I know that.  I still have my copy of Yellow and Pikachu is the starter in that one.\n",
      "I feel like gen 8 was drawn by a 6th grade art student.\n",
      "Artistically speaking, why go through all that trouble and still leave a white border on the new ones? So off-putting.\n",
      "All but Gen 1 and 2 look like trash. \n",
      "\n",
      "Then again, maybe I’m just biased because I’m old. \n",
      "So i dont acknowledge anything past gen 4, because ice cream and trash are not pokemon. But for each game i've played (red, crystal, sapphire, diamond) i've chosen the grass type because they're just better for the long run (IMO). \n",
      "Art style slowly just became neopets\n",
      "Wtf happened in the 7th gen \n",
      "\n",
      "Did they forget how starter Pokemon worked or something \n",
      "I just noticed a trend with the starters... the water types are all water-dwelling earth animals, the fire types are the obvious zodiac animal trend, and the grass types are all non-sequitur animals with a grass motif added (owls, turtles, dinosaurs, etc.) Kind of cool to see they have kind of a repeating trend. I’m also wondering what they’ll do after gen 12 when there are no more zodiac animals. 😄\n",
      "They got dumb after Gen4\n",
      "Gen 1 for life\n",
      "I love the new weed monkey\n",
      "This just goes to show how generic and uninspired the starters have gotten...\n",
      "It like watch society decline.\n",
      "Prinplup is the best starter\n",
      "Are they serious? I only know a single name of these weirdo things. Most of these look like they are fucking auto-generated!\n",
      "Can't they give them other typings for once? Change it up man, like come on\n",
      "oh yeah, yet again another generation of Pokemon that has a grass, fire, and water types for starters. way to break the mold there.\n",
      "\n"
     ]
    }
   ],
   "source": [
    "###While those numerical results may tell us about which type of pokemon or which pokemon\n",
    "#received the most attention from these reddit users, the number of times a specific pokemon\n",
    "#or a type of pokemon was mentioned tells us very little about the common opinion of all who \n",
    "#participated in the thread. \n",
    "#Thus, I decided to closely look at the top-level comments only, which allows for close reading\n",
    "#Close reading is necessary because there is a possibility that some participants did not write\n",
    "#any comments but voted for the comments with which they agreed instead.\n",
    "#It is unsound to rely completely on numerical results as we could see in the\n",
    "#example taken from the third top comment: Gen 2 was my favorite. Except Chikorita, the worthless bastard.\n",
    "#Here, Chikorita is mentioned, but not in a positive way.\n",
    "\n",
    "for top_level_comment in submission.comments:\n",
    "    print(top_level_comment.body)"
   ]
  },
  {
   "cell_type": "code",
   "execution_count": 49,
   "metadata": {},
   "outputs": [],
   "source": [
    "###At this point, I finally managed to reach my objectives and my project could be considered\n",
    "#completed. However, I realized that counting each word like that was not very efficient.\n",
    "#I wanted to find another way to count the words.\n",
    "\n",
    "#After some research, I discovered a Python class called Counter \n",
    "#which allows me to quickly count every item in str_comments\n",
    "#As Counter is a part of the collections module, I had to import it from collections.\n",
    "#The problem was that Counter counted every character in the string when I did this:\n",
    "#--->from collections import Counter\n",
    "#--->Counter(str_comments)\n",
    "#So I split my string to make sure that Counter would count every word\n",
    "\n",
    "from collections import Counter\n",
    "my_dict = Counter(str_comments.split(\" \"))"
   ]
  },
  {
   "cell_type": "code",
   "execution_count": 50,
   "metadata": {},
   "outputs": [],
   "source": [
    "###After the previous step, the type of \"my_dict\" became collections.Counter\n",
    "#I wanted to turn \"my_dict\" into a dictionary and checked if my code worked\n",
    "\n",
    "my_dict = dict((my_dict))"
   ]
  },
  {
   "cell_type": "code",
   "execution_count": 51,
   "metadata": {},
   "outputs": [
    {
     "name": "stdout",
     "output_type": "stream",
     "text": [
      "{'Everybody': 1, 'be': 37, 'hating': 2, 'my': 63, 'main': 4, 'stay': 1, 'grass': 24, \"typesI'll\": 1, '6/8': 1, 'Gens': 3, 'picking': 2, 'water': 32, 'starter.\\n\\nDidnt': 1, 'even': 17, 'realize': 4, 'how': 17, 'much': 8, 'I': 165, 'prefer': 1, 'the': 356, 'types': 10, 'most': 11, 'of': 122, 'timeTreecko': 1, 'still': 17, 'styling': 2, 'in': 68, 'everyone': 1, 'elseFuck...': 1, 'only': 33, 'know': 16, 'Pokemon': 19, 'up': 17, 'to': 113, '3rd': 1, 'gen...': 1, 'Remaining': 1, 'Fire-types:': 1, 'Ox,': 1, 'Goat,': 1, 'Horse,': 1, 'and': 219, 'Snake.\\n\\nI,': 1, 'for': 51, 'one,': 1, 'would': 13, 'love': 17, 'see': 19, 'a': 142, 'Fire/Poison-type.Gen': 1, '2': 18, 'was': 81, 'favorite.': 2, 'Except': 2, 'Chikorita,': 1, 'worthless': 1, 'bastard.': 1, 'But': 12, 'Totodile': 3, 'Cyndaquil': 3, 'made': 8, 'it': 59, 'All': 3, 'starters?': 1, 'think': 29, 'pikachu': 2, 'is': 101, 'going': 1, 'have': 40, 'one': 23, 'heck': 1, 'surprised': 1, 'face': 3, 'when': 16, 'he': 8, \"doesn't\": 3, 'himself': 1, 'on': 32, 'this!I': 1, 'first': 43, 'were': 20, 'best.\\\\*Checks': 1, 'Chinese': 3, 'Zodiac\\\\*': 1, 'Yep,': 1, 'now': 7, 'we': 6, 'got': 12, 'Rabbit': 1, 'fire': 36, 'startersYou': 1, 'that': 71, 'owl': 6, 'type': 14, 'just': 44, 'cause': 3, 'has': 15, 'green': 4, 'bow': 1, 'tie.Bulbasaur!': 1, 'Charizard!': 1, 'Squirtle!': 1, '\\n\\nChiquorita!': 1, 'Uhmm...': 1, 'Totodile!': 1, '\\n\\nHmmm...': 1, 'Torchick!': 1, 'Mudkip!': 1, '\\n\\nUhhh....': 1, 'Hmmmm...': 1, 'Yeahhh...': 1, '\\n\\nRiiiiiight....': 1, '\\n\\nEven': 1, 'if': 11, 'buy': 2, 'new': 25, 'gen': 64, 'doubt': 2, \"I'll\": 4, 'remember': 4, 'their': 12, 'names...': 1, ':PMudkip': 1, 'will': 14, 'always': 23, 'spirit-monPiplup': 1, 'favoriteMaybe': 1, \"that's\": 7, 'purely': 2, 'because': 23, 'age': 1, 'nostalgia,': 1, 'but': 53, \"there's\": 1, 'pretty': 5, 'hard': 6, 'transition': 1, 'from': 30, '\"which': 2, 'coolest?\"': 1, 'bearable?\"': 1, 'after': 18, 'Gen': 29, '4.Mudkip': 1, 'supremeSquirtle': 1, 'man': 3, 'through': 8, 'through,': 1, \"I'm\": 16, 'sure': 2, 'every': 8, 'picked': 7, 'starter': 30, 'otherwise.The': 1, 'looks': 19, 'like': 61, 'furby': 1, 'childhood': 2, 'anything': 3, 'say,': 1, 'its': 15, 'haunted': 1, 'by': 20, 'default.\\n\\nTHE': 1, 'SPIRIT': 1, 'OF': 1, 'THE': 2, 'F': 1, 'U': 1, 'R': 1, 'B': 1, 'Y': 1, 'HAS': 1, 'FOUND': 1, 'A': 5, 'NEW': 1, 'H': 1, 'O': 1, 'S': 1, 'TSomething': 1, 'about': 24, 'these': 8, 'fellars': 1, 'off': 6, \"puttin'Idk\": 1, 'i': 14, 'feel': 19, 'monkeyHonestly,': 1, 'terms': 2, 'appearance,': 1, 'starters': 34, 'get': 15, 'worse': 3, 'as': 37, 'time': 14, 'goes': 5, 'on.': 2, 'appreciate': 1, '3': 15, 'Gen’s': 1, 'relatively': 2, 'simple': 2, 'designs': 5, 'look': 24, 'they': 40, 'could': 14, 'real': 4, 'creatures.': 2, 'As': 1, 'on,': 2, 'feels': 1, 'more': 25, 'over': 6, 'designed,': 1, 'adding': 1, 'unnecessary': 1, 'markings': 1, 'appendages': 1, 'no': 12, 'reason.': 1, 'Anybody': 1, 'closely': 1, 'resembled': 1, 'zodiac?My': 1, 'complaint': 1, 'Scorbunny': 3, 'Chespin': 2, 'exact': 1, 'same': 6, 'can': 18, 'never': 9, 'unsee': 1, 'itCyndaquil': 1, 'Pokémon': 11, 'Crystal.': 1, 'He’s': 1, 'favorite': 12, '(charmander': 1, 'close': 2, 'second).They': 1, 'really': 17, 'improved': 1, 'originals,': 1, 'imo\\n\\n&#x200B;1st-3rd': 1, 'personal': 2, 'Interesting': 1, 'art': 8, 'direction': 1, 'change': 5, '20': 1, 'years.': 1, '': 44, 'The': 15, 'circus': 2, 'animals': 2, 'or': 15, 'bad': 5, 'PBS': 1, 'cartoon': 2, 'animations': 1, 'lot': 10, 'less': 8, 'wild': 2, 'animals.': 3, 'Just': 3, 'two': 12, 'cents.That': 1, 'make': 4, 'cool': 10, 'mousepadmy': 1, 'each': 6, 'are,': 1, 'Bulbasaur,': 2, 'Totodile,': 2, 'Mudkip,': 1, 'Chimchar,': 1, 'Snivy,': 2, 'Froakie(?),': 1, 'Owl': 1, 'BoiI': 1, 'kid,': 1, 'decide': 1, 'which': 7, 'pick': 6, 'so': 37, 'all': 31, 'big': 2, 'meaning': 2, 'meGen': 1, 'I’ve': 6, 'been': 14, '7/7': 1, 'play': 2, 'farToo': 1, 'many': 5, 'similar.': 1, 'This': 6, 'frustrates': 1, 'me': 15, 'Chosen': 1, 'per': 1, 'generation:\\n\\nCharmander,': 1, 'Treeco,': 1, \"don't\": 13, \"didn't\": 5, 'any': 5, 'them,': 3, 'Froakie,': 1, 'Rowlet.\\n\\nUndecided': 1, 'between': 3, 'Sobble': 3, 'Sword/Shield.Grass': 1, 'monkey': 5, 'bad,': 1, 'forsed': 1, 'near': 1, 'greatest': 1, 'round': 1, 'universe,': 1, 'slightly': 3, 'worse4th': 1, 'last': 10, 'good': 14, 'oneGen': 1, '1': 21, \"bestI've\": 1, 'played': 11, 'games': 8, 'left.I': 1, 'since': 12, 'tot,': 1, 'ever': 9, 'single': 4, 'time....': 1, 'bunny': 3, 'though...ugh...': 1, 'making': 4, 'this': 25, 'choice': 4, 'hard.': 2, 'Monkey': 1, 'too': 5, 'adorable': 2, 'nothing': 2, 'beats': 1, 'stillThree': 1, 'are': 46, 'not': 21, 'others...what': 1, 'happened': 2, '5': 12, 'onwards?': 1, 'dumb': 2, 'xDIt': 1, 'looked': 3, 'monsters': 1, 'marshmallows': 1, 'glued': 1, 'together': 1, 'someone': 3, 'with': 47, 'Parkinson’s.Literally': 1, 'them': 21, 'Black': 1, 'White.': 1, 'Welp': 1, 'thats': 3, 'what': 10, 'being': 6, 'able': 1, 'afford': 1, '3dsSince': 1, 'whatever': 3, 'fighting': 1, 'confirm': 1, 'another': 9, 'fightingAll': 1, 'generations': 3, 'exactly': 2, 'clear': 2, '4': 14, 'legged': 1, 'pokemon.': 5, 'Although': 2, 'little': 4, 'guess': 5, 'gonna': 2, 'say': 8, 'sobble': 1, 'quadruped': 1, 'wrong.': 1, 'Also': 2, 'you': 31, 'among': 1, 'share': 1, 'similar': 2, 'design': 4, 'body': 2, 'structure,': 1, 'such': 2, 'turtwig,': 1, 'chickorita,': 1, 'mudkip.': 1, '(I': 1, 'probably': 7, 'didnt': 4, 'spell': 1, 'names': 4, 'right': 9, 'idrc)Scorbunny': 1, 'chespin': 3, 'related...': 1, 'They': 11, 'faceOlha': 1, 'esses': 1, 'arrombadinhos': 1, 'fofos': 1, 'do': 10, 'caralhoWe': 1, 'need': 3, 'ape': 1, 'next': 5, 'generation.': 3, 'sea': 1, 'monkey?Gen': 1, 'baby.': 1, 'Nothing': 1, 'beat': 5, 'feeling': 1, '8': 8, 'year': 2, 'old': 7, 'had': 15, 'opening': 1, 'bday': 1, 'present': 1, 'contained': 1, 'red': 4, 'GBC.OG3': 1, 'far': 3, 'best': 20, 'design.I': 1, 'where': 9, 'want': 6, '3.For': 1, 'actually': 12, 'tend': 1, 'chose': 1, 'starter.': 2, 'I’m': 8, '4:2': 1, 'grass:fire': 1, 'preference': 2, 'previous': 6, 'gens': 6, 'tie.': 1, 'chosen': 2, 'though': 3, 'may': 2, 'depending': 1, 'final': 6, 'evolutions': 6, 'look.This': 1, 'instead': 3, 'red.': 2, 'Missing': 1, 'onedid': 1, 'anyone': 2, 'else': 6, 'let': 1, 'down': 2, \"chosecan't\": 1, 'wait': 1, 'fan': 8, 'guesses': 1, 'evolve': 4, 'intoAnyone': 1, 'why': 4, 'gen2': 1, 'started': 4, 'soft': 2, 'dopey': 1, '?And': 1, 'Bulbasaur': 13, 'absolute': 1, 'best.they': 1, 'better': 8, 'pull': 1, 'fennekin': 1, 'sobbleOmg': 1, 'does': 5, 'baby': 1, 'cat': 3, 'turn': 2, 'into': 9, 'buff': 1, 'Smash': 1, 'Bros?!?': 1, '\\n\\nBoy': 1, 'am': 2, 'behind': 2, '#gold4lyfe2\\n\\n1\\n\\n4\\n\\n3\\n\\n8\\n\\n6\\n\\n5\\n\\n7\\n\\nKinda': 1, 'seems': 7, 'cartoony': 1, 'animal': 2, 'went': 7, 'on.Missing': 1, 'Pikachu,': 2, 'him': 1, 'yellow': 1, 'addition': 1, ':D': 1, '(old': 1, 'one)Ugh': 1, 'an': 10, 'adult': 1, 'sucks.': 1, 'fourth': 3, 'set': 2, 'starts': 1, 'come': 5, 'out': 17, 'these.': 1, '\\n\\nI': 1, 'hope': 5, 'oldest': 1, 'daughter': 1, 'caught': 1, 'up.': 2, 'stick': 1, 'badly.': 1, 'When': 2, 'saw': 2, 'Alolan': 1, 'mixed': 1, 'rest,': 1, 'fit': 3, 'in.': 1, 'Same': 1, 'Kalos': 1, 'starters.': 8, 'Honestly': 1, 'pre-evolution': 1, 'designs,': 1, 'it’s': 3, '5-6': 1, 'losing': 1, 'interest': 1, 'evolutions.': 2, 'seem': 4, 'become': 3, 'anthro': 1, 'humanoid': 1, 'fun': 2, 'second': 4, 'forms': 1, 'though!charmander': 1, 'tell': 2, 'wrongWtf': 1, 'those': 4, 'abominations': 1, 'past': 6, 'mudkip': 2, 'torchic': 1, 'treekoWhich': 1, 'hardest': 1, 'decision?Chespin': 1, \"sameWhat's\": 1, 'Treecko': 3, 'T-poseI': 1, 'gens,': 1, 'then': 15, 'Rowlett': 1, 'keeping': 1, 'way.': 1, 'Single': 1, '(aka': 1, 'potato)': 1, \"imoIt's\": 1, 'older': 2, 'honestly,': 1, 'onwards': 1, 'begin': 1, 'pretty...': 1, 'idk.': 1, '\"manufactured\"?I': 1, 'special': 2, 'place': 3, 'heart': 3, '6My': 1, 'temping': 1, 'who': 4, 'yoursGotta': 1, '4.': 4, 'tbh,': 1, 'catch': 3, 'Starly': 1, 'god': 1, 'Staraptor.\"all\"\\nForgot': 1, 'Pikachu': 5, 'My': 3, 'Gen1': 1, 'Gen8:\\n\\n1.': 1, 'Grass\\n2.': 1, 'Water\\n3.': 1, 'Grass\\n4.': 1, 'Water\\n5.': 1, 'Grass\\n6.': 1, 'Fire': 3, '(': 1, 'SO': 4, 'took': 2, 'Water)\\n7.': 1, 'Water': 5, '(because': 2, 'Grass)\\n8.': 1, 'others': 5, 'takes': 1, 'Water,': 1, 'too).\\n\\nIt': 1, 'great...': 1, 'Without': 1, 'SO,': 1, '4x': 3, 'water,': 4, 'grass,': 4, 'perfectly': 1, 'balanced.PokemojisI': 1, 'monkeyMudkip': 1, 'os': 1, 'hands': 2, 'bestthe': 1, 'three': 12, 'fusions': 1, \"gensI'm\": 1, 'waiting': 3, 'around': 3, 'sheep': 1, 'starter.GEN': 1, 'FTW!': 1, 'choose': 5, 'Treecko,': 1, 'stats': 1, 'round,': 1, 'movesets': 1, 'learn': 4, 'some': 16, 'TMs': 1, 'want.': 1, 'Combo': 1, 'Gardevoir': 1, 'set.': 1, 'army,': 1, 'Gardevoir.': 1, '\\n\\nThe': 1, 'rest': 9, 'lineups': 1, 'Zigzagoon': 1, 'grab': 1, 'random': 1, 'items': 1, 'equipping': 1, 'HMs.': 1, 'Good': 1, 'times.What': 1, 'hell': 1, 'gen-5': 1, 'penis': 1, 'belly?My': 1, 'extends': 1, 'sets.': 1, 'Mayb': 1, 'maxI': 1, \"can't\": 4, 'believe': 3, 'Unova': 1, 'already': 3, 'past,': 1, 'old.I': 1, 'style': 9, 'shifted': 1, 'same.': 1, 'Grass': 8, ':': 5, 'easy': 3, 'Grass/Fight.': 1, \"I'd\": 4, 'turns': 1, 'Ape': 1, 'Commander-ish': 1, 'Grass/Steel\\n\\nFire': 1, 'Normal': 3, 'lose': 1, 'typing,': 2, 'gain': 1, 'type,': 2, 'having': 3, 'sounds': 1, 'dumb,': 1, 'Fire/Fight': 1, \"isn't\": 2, 'meme': 1, 'anymore': 1, 'comeback': 1, 'anytime,': 1, 'yettt': 1, 'it,': 5, 'so..': 1, 'Fire/Ghost?': 1, 'Fire/Flying?': 1, '\\n\\nWater': 1, 'Mudkip': 1, 'v2,': 1, 'gets': 5, 'fancy': 1, 'Water/Dragon': 1, 'pls,': 1, 'lol.': 1, '\\n\\nDual': 1, 'typing': 5, 'staple': 1, 'dual': 1, 'gone': 2, 'stuffs,': 1, 'match': 1, 'Sword': 1, '/': 3, 'Shield': 1, 'theme.': 1, '\\n\\nPls': 1, 'fine': 1, 'cute': 4, 'things,': 1, \"IV's\": 1, 'amity': 1, 'square': 1, 'PLS': 1, 'Primarina,': 1, 'at': 26, 'least': 4, 'swapped': 1, 'genderThe': 1, 'me...Pokémon': 1, 'black': 3, 'white': 5, 'brought': 1, 'happiest': 1, 'memory’s': 1, 'experienced.Tepig': 1, 'Turtwig': 2, 'starters!': 1, \"They're\": 1, 'cute!': 1, 'them!The': 1, 'mix': 3, 'couple': 3, 'hate': 3, 'yet': 3, 'time\\nI': 1, 'stopped': 4, 'Chimchar': 3, 'back': 6, '07Maybe': 1, 'crazy,': 1, 'belong': 1, 'zodiac.': 1, 'Dragon,': 1, 'mouse,': 1, 'chicken,': 1, 'monkey,': 1, 'pig,': 1, 'dog,': 1, 'tiger,': 1, 'rabbit': 2, 'here.': 1, 'missing': 1, 'goat/sheep,': 1, 'cow,': 1, 'horse,': 1, 'snake...maybe': 1, 'later': 3, 'editions?Man': 1, 'best.': 5, 'realised,': 1, \"I've\": 7, 'grass-water-grass-water': 1, 'beginning.Sinnoh': 1, '>>>>>>Know': 1, '2,': 2, 'mystery': 1, 'me.Pikachu': 1, 'missing.Wheres': 1, 'pikachu?Grooky': 1, 'crappy': 1, 'fan-made': 1, 'Fuck': 1, 'getting': 2, 'It’s': 4, 'like...10': 1, 'minutes': 1, \"There's\": 1, 'thing': 4, 'noticed': 3, 'starter/tier-1-evolution': 1, 'pokemon': 27, 'mid': 1, 'generation': 7, 'off-putting': 1, 'seperated': 1, 'beginning': 1, 'pokemon,': 3, 'especially': 3, 'early': 3, '\"younger\"': 2, 'featured': 1, 'small': 2, 'heads.': 1, 'For': 2, 'reason': 3, 'visualization': 1, 'Charmander': 7, 'Squirtle': 5, 'hears': 1, 'appealing': 1, 'seemed': 2, 'realistic.': 1, 'It': 6, 'larger,': 2, 'heads': 2, 'realistic,': 1, \"we're\": 1, 'talking': 2, 'cartoon.': 1, 'Smaller': 1, 'makes': 5, 'youth,': 1, 'weak,': 1, 'etc.': 1, 'strengthened': 1, 'evolution.Looking': 1, 'realise': 2, 'basically': 1, 'starters...Look': 1, 'massacred': 1, 'boysDo': 1, 'MUDKIP': 1, 'BRO??fucking': 1, 'convoluted': 1, 'None': 1, 'original': 5, '3.I': 1, 'changes': 2, 'generations,': 1, 'eyes.Anyone': 1, 'albino': 1, 'Did': 1, 'game': 23, '?': 1, 'Hawaii': 1, 'theme': 1, 'cringe': 1, 'unplayableGreninja': 1, 'FTWI': 1, 'half': 3, 'from.I': 1, 'top': 4, 'left...I': 1, 'starter.Cool': 1, 'Mudkip.Been': 1, 'solid': 2, 'starter.\\n\\nI': 1, 'also': 14, 'take': 3, 'Pokemon.I’m': 1, 'reserving': 1, 'opinion': 3, 'until': 8, 'hope...gen': 1, 'heartGlad': 1, 'developers': 1, 'finally': 2, 'broke': 1, 'cycle': 1, 'creating': 1, 'uglier': 2, 'Judging': 1, 'least.Ive': 1, 'playing': 2, 'go': 10, 'recently': 1, 'starters(the': 1, 'bought': 2, 'GBA': 1, 'At': 2, 'point,': 2, 'realised': 2, 'am.': 1, 'realized': 2, '4th': 3, 'life-cycle.It': 1, 'me1st': 1, 'So': 5, 'community': 1, 'day': 3, 'treecko': 1, 'Torchic': 1, 'looking': 5, 'forward': 2, 'that.The': 1, 'Diamond': 1, 'released,': 1, 'thinking': 2, 'fresh': 1, 'everything': 4, 'looked.': 1, 'seen': 4, 'God': 1, 'damn': 1, \"it's\": 5, 'long': 3, 'time.I': 1, 'ratarded': 1, 'than': 14, 'ones.': 3, 'Originals': 1, 'shity': 1, 'Nikelodeon': 1, 'characters.Cyndaquil': 1, 'ever.\\n\\n*FIGHT': 1, 'ME*Straight': 1, 'decline': 1, 'character': 2, 'design,': 1, 'te': 1, 'further': 1, 'go,': 1, 'details/less': 1, 'iconic': 1, 'designs.': 1, 'Plus': 1, 'stahp': 1, 'humanized': 1, 'noone': 1, 'wants': 1, 'humanoids': 1, \"fight.I'd\": 1, 'something': 10, 'different': 5, 'typings.': 1, 'Maybe': 3, 'Psychic-Fighting-Dark': 1, 'other': 17, 'checks': 2, 'balance': 2, 'trio': 1, 'starters.\\n\\n&#x200B;\\n\\nI': 1, 'Grass,': 2, 'Fire,': 2, 'thing,': 2, 'up.This': 1, 'lie!!!': 1, 'Where': 1, 'eevee.': 1, 'starters.Gen': 1, '<3Gen': 1, '1-5': 1, 'ones': 5, 'ive': 1, 'liked': 4, 'wise.': 1, 'Personally': 1, '1-3': 1, 'ultimate': 1, 'favorites.Totodile': 1, 'all-time': 1, 'favouriteLitten': 1, 'doesn’t': 1, 'fit.They': 1, 'shittier': 1, 'generationyou': 1, 'forgot': 3, 'pikachu,': 1, 'start': 5, 'yellow...What’s': 1, 'starters?Wow.': 1, 'there': 10, 'many...': 1, 'magical': 1, 'enough.': 1, 'cant': 2, 'imagine': 1, 'trying': 1, 'keep': 1, 'now.': 1, 'Im': 3, 'oldGen1&2': 1, 'forever': 1, 'Damn,': 1, 'recognize': 1, 'left': 1, 'side': 4, 'point.': 2, 'We': 1, 'fam': 1, 'Everything': 1, 'odd': 1, 'me.': 3, 'old.Gen': 1, 'iconic.': 1, 'fantastic.Typhlosions': 1, 'eruption': 1, 'ass': 2, 'lazy': 1, 'sad': 1, 'bi': 1, 'bedal': 1, 'anthropomorphic': 1, 'freak.': 1, 'sun': 3, 'moon': 3, 'very': 7, 'turned': 2, 'lame': 1, 'wrestler.': 1, 'missed': 1, 'Pokémon.': 1, 'Holy': 2, 'shit.': 3, 'evolution': 4, \"favorite.You'll\": 1, 'opinion.': 1, 'Creatively': 1, 'designed': 6, 'named,': 1, 'statistically': 1, 'memorable.': 1, 'Why': 1, 'perfect': 2, 'blah': 1, 'don’t': 2, 'that’s': 1, 'bad.': 1, 'Besides': 1, '6': 7, 'suck.': 1, 'intimidating': 1, 'silly': 1, 'please': 2, 'give': 2, 'flaming': 1, 'ears': 1, 'evolves': 2, 'PLEASE': 1, 'GIVE': 1, 'IT': 1, 'FLAMING': 1, 'EARSGen': 1, 'unintentional': 1, 'Grass/Fire/Grass/Water/repeat': 1, 'pattern': 1, 'holds': 2, 'true.': 1, 'Really': 1, 'seeing': 2, \"Sobble's\": 1, 'evolutions.Bulbasaur,': 1, 'Charmander,': 2, 'Squirtle,': 1, 'Chicarita,': 1, 'Cidaquill,': 1, 'Toadadial,': 1, 'pass,': 1, 'chick-something,': 1, 'mudkip,': 1, 'duno,': 1, 'chimchar,': 2, 'piplup,': 1, 'clue': 1, 'rest!The': 1, 'knock': 1, 'point': 4, 'exciting': 1, 'again': 5, 'stop': 2, 'Water.Yet': 1, 'beaten': 1, 'Piplup': 2, 'starterIn': 1, 'order': 2, 'last,': 1, 'faves': 1, 'are:': 1, 'fire,': 2, 'grass.\\n\\nNewest': 1, 'might': 5, 'course...': 1, 'win': 2, 'out.All': 1, 'Hoenn': 2, 'respective': 1, 'base': 1, 'typings...': 1, 'However,': 1, 'Galar': 3, \"region's\": 1, 'maasively': 1, 'appeal': 2, 'starters...': 2, 'Hoenn,': 1, 'typings': 2, 'too!': 1, 'excited': 1, 'forms.I': 1, 'literally': 4, 'different.': 1, '3,6,': 1, '8.': 1, '1,4,5,': 1, '7': 9, '2Why': 1, 'did': 4, 'eyesWhat?': 1, 'No': 1, 'Yellow': 3, 'version?I': 1, '4,': 4, 'ready': 1, 'switch.I': 1, '5,': 2, '7,': 2, '8.Bobbies[deleted]You': 1, 'run': 2, 'ideas.': 2, 'Inevitable': 1, 'guesslol': 1, 'weird!\\n\\nalso': 1, 'suppose': 1, 'be?Gen': 1, 'best.My': 1, 'list': 2, 'generations:\\n\\n1.': 1, '3\\n\\n2.': 1, '7\\n\\n3.': 1, '2\\n\\n4.': 1, '1\\n\\n5.': 1, '4\\n\\n6.': 1, '5\\n\\n7.': 1, '6I': 1, 'loved': 2, 'Pokemon.': 1, 'admit': 1, 'upset': 1, \"Let's\": 2, 'Go': 3, 'Eevee/Pikachu.': 1, 'refused': 2, 'demo.': 1, 'Going': 1, 'hold': 1, 'judgement': 1, 'region': 1, 'hopeful.Look': 1, 'vs': 2, 'six.': 1, 'Man': 1, 'grew': 1, 'beautiful': 1, 'time.Gen': 1, '1-2': 1, 'fave.': 1, 'mind': 2, '3-5.': 1, '\\n\\n\\nI': 1, 'talk': 2, '6-8..The': 1, 'made.': 1, 'quit': 1, '3.': 3, 'generic': 3, 'blobs.': 1, 'Devoid': 1, 'can’t': 2, 'name': 5, '21.': 1, 'wrost': 1, 'GenBest': 1, 'Grass:': 1, 'Chikorita': 1, '\\nBest': 2, 'Fire:': 1, 'Fennekin': 2, 'Water:': 1, 'Totodile\\n\\n(Score:': 1, 'G1,': 3, 'G2,': 2, 'G6)\\n\\nGest': 1, 'G1:': 1, '\\nG2:': 1, '\\nG3:': 1, 'Torchic...': 1, 'evolves.': 1, '\\nG4:': 1, 'Ew.': 1, 'guess.': 1, '\\nG5:': 1, 'Not': 3, 'there.': 2, '\\nG6:': 1, 'Fennekin.': 1, '\\nG7:': 1, 'Litten...': 1, 'Until': 1, 'twice.': 1, '\\nG8:': 1, 'neat.\\n\\n(Score:': 1, 'FireX4,': 1, 'WaterX2,': 1, 'X1)Nothing': 1, 'trio.': 1, 'Trinity.': 1, 'thr': 1, '1Hate': 1, '\"that': 1, 'guy\"': 1, 'ugliest': 1, 'seem...': 1, 'busy?\\n\\nIve': 1, 'nostalgia': 3, 'aside': 1, 'but..': 1, 'yeah': 3, 'weird': 3, 'mismatches': 1, 'gens.I': 1, 'came': 4, 'out..': 1, 'man..': 1, 'terrible': 1, 'me..': 1, 'like..': 1, 'throwing': 1, 'geometric': 1, 'shaped': 1, 'pieces': 1, 'big/small': 1, 'clay': 1, 'figure..': 1, 'painting': 1, 'calling': 2, 'day.': 1, 'Even': 2, 'Missingno': 1, 'imo.As': 1, 'picks': 1, '(except': 2, 'boy': 2, 'turtwig': 1, 'turtles': 1, 'adorable)': 1, 'around.Gen': 1, 'beat.': 1, 'except': 3, 'cuz': 1, 'cyndaquil': 1, 'fucking': 3, 'stupid,': 1, 'I’ll': 2, 'before': 5, 'oneSnivy': 1, 'way!Damn': 1, 'added': 3, 'lot.': 1, 'sets.What': 1, 'match?': 1, '\\n\\nMy': 1, 'pick:\\n\\nRowlet,': 1, 'TotodileRed': 1, 'Blue': 1, \"FTWI've\": 1, 'turtle': 2, 'pokemonWhy': 1, 'image': 1, 'blank?Wrong.': 1, 'that.': 2, 'copy': 1, 'one.I': 1, 'drawn': 2, '6th': 1, 'grade': 1, 'student.Artistically': 1, 'speaking,': 2, 'trouble': 1, 'leave': 1, 'border': 2, 'ones?': 1, 'off-putting.All': 1, 'trash.': 1, '\\n\\nThen': 1, 'again,': 2, 'maybe': 3, 'biased': 2, 'old.': 1, 'dont': 5, 'acknowledge': 1, 'ice': 6, 'cream': 3, 'trash': 2, \"i've\": 2, '(red,': 1, 'crystal,': 1, 'sapphire,': 1, 'diamond)': 1, \"they're\": 2, '(IMO).': 1, 'Art': 1, 'slowly': 2, 'became': 2, 'neopetsWtf': 1, '7th': 2, '\\n\\nDid': 1, 'forget': 1, 'worked': 1, 'trend': 1, 'water-dwelling': 1, 'earth': 1, 'animals,': 1, 'obvious': 1, 'zodiac': 2, 'trend,': 1, 'non-sequitur': 1, 'motif': 1, '(owls,': 1, 'turtles,': 1, 'dinosaurs,': 1, 'etc.)': 1, 'Kind': 1, 'kind': 2, 'repeating': 1, 'trend.': 1, 'wondering': 1, 'they’ll': 1, '12': 2, '😄They': 1, 'Gen4Gen': 1, 'lifeI': 1, 'weed': 1, 'monkeyThis': 1, 'show': 2, 'uninspired': 1, 'gotten...It': 1, 'watch': 2, 'society': 1, 'decline.Prinplup': 1, 'starterAre': 1, 'serious?': 1, 'weirdo': 1, 'things.': 1, 'Most': 1, \"auto-generated!Can't\": 1, 'once?': 1, 'Change': 1, 'man,': 1, 'onoh': 1, 'yeah,': 1, 'way': 4, 'break': 2, 'mold': 1, 'there.\\nI': 1, 'three,': 1, 'Venusaur': 4, 'mathematically': 3, 'choice--': 1, 'considering': 1, 'strengths/weaknesses': 1, 'opponents': 1, 'game.': 2, 'till': 1, 'X': 2, 'Y.': 1, 'Chestnaut': 1, 'poor': 2, 'imitation': 1, 'Torterra.': 1, 'restarted': 2, 'Greninja': 1, 'instead,': 1, 'while': 6, 'unaware': 1, 'meta': 1, 'apparently': 1, 'were.': 1, 'Sun': 3, 'Moon': 2, 'Poplio': 2, 'Rowlet,': 1, 'decided': 1, 'again.': 1, 'regret': 1, 'slightest.': 1, 'Chepin/Quilladin/Chestnaught': 1, 'weak': 2, 'link': 1, 'imo.': 2, 'Serperior': 1, 'Torterra': 1, 'faves.': 1, 'Never': 1, 'tbh.Problem': 1, 'Treeko': 1, 'Grovyle': 2, 'cooler': 1, 'Sceptile.': 1, '*awesome*': 1, 'Sceptile': 2, 'awkward-looking': 1, 'letdown.I': 1, 'aways': 1, \"type.I'm\": 1, 'digging': 1, 'Grookey': 2, 'great': 5, 'addition,': 1, 'opinion.Grass': 1, 'life.': 1, 'Started': 1, 'Bulba,': 1, 'chikorita': 1, 'brothers': 1, 'standard': 1, 'tradition': 1, 'fell': 1, 'Treeko.': 1, 'stage': 2, 'be.': 1, 'Gang': 1, 'is.Yeah,': 1, 'playthrough': 1, 'generation,': 1, 'grass.Decidueye': 1, 'dopest.Fowler': 1, 'tho.': 1, 'mean': 5, 'he’s': 3, 'instantly': 2, 'best!Grass': 1, 'way!Amen': 1, 'thatPoison': 1, 'put': 1, 'opponent': 1, 'sleep,': 1, 'leach': 1, 'seed,': 1, 'wither': 1, 'away.': 1, 'effective': 3, 'against': 25, 'higher': 1, 'level': 4, 'opponent.': 1, 'Love': 1, 'type.': 2, 'Aside': 1, 'seal': 1, 'water.': 2, 'grass/ghost': 1, 'cooler.I': 1, 'nearly': 2, 'types,': 1, 'usually': 1, 'halfway': 1, 'gameWhich': 1, 'didn’t': 2, 'start?Same': 1, '\\nPlayed': 1, 'prolly': 1, 'throughout': 1, '10': 1, 'years': 1, 'mostly': 1, 'recollection': 1, '..': 1, 'T(pose)reecko': 1, 'too.': 2, '[deleted]Then': 1, \"you'll\": 1, 'Salazzle.I’d': 1, 'Ox': 1, 'Minotaur.': 1, 'Fire/Steel': 1, 'thought': 6, 'Slugma': 1, 'Fire/Poison': 1, 'first...': 1, 'Gimme': 1, 'fiery': 1, 'serpent': 1, '-': 2, 'Ignidewinder!Cyndaquil': 1, ':3': 1, 'He': 2, 'trusty': 1, 'companion': 1, 'troughout': 1, 'Soul': 1, 'Silver': 2, 'journeyChikorita': 1, 'taught': 1, 'Loved': 1, 'bits,': 1, 'pidgey': 1, 'heavy': 1, 'liftingFor': 1, 'extremely': 2, 'sapphire': 1, 'kidFirst': 1, 'all:': 1, 'How': 1, 'dare': 1, 'you!They': 1, \"could've\": 1, 'used': 9, \"typingDon't\": 1, 'Mr.': 1, 'Stake': 1, 'bastard': 1, 'pulled': 1, 'his': 5, 'weight': 1, 'dying': 1, 'shit!': 1, 'Feraligatr': 1, 'stomp': 1, 'entire': 3, 'aloneChikorita': 1, 'looking,': 1, 'useful': 1, 'sometimes,': 1, 'end': 1, 'slave': 1, 'convenience,': 1, 'use': 4, 'work(just': 1, 'dislike': 1, \"Typhlosion's\": 1, 'design)': 1, 'general.This': 1, 'comment': 1, 'for.\\n\\nAnd': 1, 'it...': 1, \"Isn't\": 1, 'EEVEE': 1, 'too?He': 1, 'known': 1, '\"Bastard': 1, 'starter\"Underrated': 1, 'comment.Me': 1, 'Pokemon,': 2, 'starter,': 1, 'really,': 1, 'few': 2, 'magic.': 1, 'Every': 2, 'trees': 1, 'perfect.': 1, 'starters.\\n\\nI': 1, 'Quilava,': 1, 'Infernape,': 1, 'Dewott,': 1, 'Greninja,': 1, 'Decidueye.': 1, 'lackluster': 1, 'me.I': 1, 'ivysaur': 1, 'feraligatr': 1, 'places': 1, 'fence,': 1, 'either': 1, 'x': 1, 'y.': 1, 'Delphox': 1, 'awesome,': 1, 'froakie': 1, 'greninja': 1, 'awesome': 1, 'well,': 1, 'Chesnaught': 1, 'awesome.': 1, 'firsts': 1, 'cool.Definitely.': 1, 'drop': 2, 'three...': 1, 'Then': 1, 'tried': 1, 'four.': 2, 'off[deleted]I': 1, 'designed.': 1, 'flawed': 2, 'fact': 1, 'tier': 2, 'ideas': 1, 'used.': 2, 'Now': 1, 'PokémonYeah': 1, 'honestly': 2, 'Flying/Grass': 1, 'Grass/Flying': 1, 'itTurtwig,': 1, 'piplupYou': 1, 'said': 1, 'charizard': 2, 'charmander': 1, ':)Hey!!!!!': 1, 'beloved.': 1, 'fuck': 1, 'offI': 1, 'read': 2, 'rap': 1, 'TV': 1, 'stumbled': 1, 'it.': 2, '\\n\\n\"at': 1, '150': 2, 'master': 1, 'destiny....\\nwe': 1, 'bulbasaur': 2, 'charlizard': 1, 'squritle': 1, 'chiquorita.....': 1, 'ummmm....': 1, 'totodile...': 1, 'hmmm': 1, 'torchick': 1, 'ummm': 1, 'yea': 1, 'see!!!!\"\\n\\nhttps://www.youtube.com/watch?v=xMk8wuw7nekI': 1, 'remembered': 2, 'them.': 1, 'Pretty': 1, 'happy': 1, 'that.Username': 1, \"outI'm\": 1, 'Snivy': 1, 'Froakie': 1, 'cool.(second': 1, 'evolution)': 1, \"It's\": 8, 'shift,': 1, 'altered': 1, 'quite': 3, 'bit': 2, 'preceded': 1, 'it.Gens': 1, '1&2': 1, 'first,': 2, 'retroactively': 1, 'changed': 1, 'closer': 1, 'anime': 2, 'creamy': 1, 'colors.\\n\\nGens': 1, '3&4': 1, 'advantage': 2, 'colors': 2, 'offer,': 1, 'intense': 1, 'pastel-y': 1, 'hues\\n\\nGen': 1, 'unique': 3, '2d': 1, 'sprites': 1, 'motion': 1, 'easier': 1, 'animate,': 1, 'stubby': 1, 'legs,': 1, 'shapes': 1, 'highly': 1, 'expressive': 1, 'eyes.\\n\\nGen': 1, '6+': 1, 'Were': 1, 'displayed': 1, 'experienced': 1, '3d': 2, 'models,': 1, 'proportions': 1, '2dThat': 1, 'new.': 2, 'Today': 1, 'youve': 1, 'strange.': 1, 'months': 1, 'now,': 1, 'once': 1, 'out,': 1, 'theyll': 1, 'you.interesting.': 1, 'find': 3, 'compared': 3, 'felt': 2, \"gen's\": 1, 'ofc).': 1, 'unbalanced': 1, 'weird.': 2, '\"right\"': 1, 'meGrass': 1, 'Monkey,': 1, 'funky': 1, 'MonkeyI': 1, \"he's\": 1, 'cuteDat': 1, 'chunky': 1, \"monkeyIt's\": 1, 'mouth,': 1, 'beak': 1, \"chimp's\": 1, 'mouth.Definitely': 1, 'fits': 2, 'much,': 1, 'tho': 1, 'chimchar': 1, 'sick,': 1, 'guy': 1, 'sense': 1, 'thinkI': 1, 'chimcharYou': 1, 'Pansage?': 1, ':PI': 1, 'goddammit![deleted]Kinda.': 1, 'To': 1, 'your': 5, 'credit,': 1, 'animal.Wait': 1, 'second,': 1, 'HAD': 1, 'starter!': 1, 'And': 1, 'mudkip!\\n\\nThey': 1, 'running': 2, 'ideas.The': 1, 'occurred': 1, 'puberty': 1, 'one!\\n\\nAt': 1, 'gathered': 1, 'based': 4, 'people': 2, 'Pokemon.3rd': 1, \"might've\": 1, 'favourite.': 1, \"Litten's\": 1, 'line': 1, 'cool,': 1, 'Popplio': 1, \"Rowlet's\": 1, 'awesomely': 1, 'creative.Gen': 1, '1:': 1, 'classic': 1, 'hell\\n\\nGen': 1, '2:': 1, 'more\\n\\nGen': 1, '3:': 1, 'reinvented': 2, 'franchise': 1, 'personally': 1, '\\n\\nGen': 3, '4:': 1, 'depth': 1, 'tons': 1, 'tech': 1, 'improvements': 1, 'plus': 1, 'mons\\n\\nGen': 1, '5:': 1, \"haven't\": 1, 'played,': 1, 'mons': 3, '6:': 1, 'absolutely': 2, 'fantastic,': 1, 'gorgeous': 1, 'world\\n\\nGen': 1, '7:': 1, 'tutorials': 2, 'assumes': 1, \"you've\": 1, 'video': 1, 'life,': 1, 'thoughYep!!6': 1, 'isnt': 2, 'either.': 2, 'yeah.': 1, 'Definite': 1, 'quality': 2, '2.....': 1, 'Ash': 1, 'Ketchum': 1, 'exploring': 1, 'unknown.': 1, 'Excited!': 1, '(Also,': 1, \"too??)I'm\": 1, '27': 1, 'friend': 1, '18': 1, 'she': 1, 'born.How': 1, 'I?': 1, 'there.I': 1, 'place,': 1, 'reptiles': 1, 'biased.': 1, 'bit.': 1, 'Yeah': 2, 'fire/fighting': 2, 'thin': 1, 'outline': 2, 'none': 1, 'do,': 1, 'stand': 1, \"background.It's\": 1, \"We're\": 1, 'immediately': 2, 'recognizing': 1, 'yet,': 1, 'off.': 1, 'By': 1, \"they'll\": 1, 'others.My': 1, 'gamble': 1, 'is:': 1, 'grass/fighting,': 1, 'fire/fairy,': 1, 'water/poison.I': 1, 'place.': 2, 'soooo': 1, 'okay': 1, 'worst': 3, 'lineup.A': 1, 'lettuce': 1, 'dinosaur': 1, \"wasn't\": 1, 'ideas?': 1, 'otter': 1, '(didn’t': 1, 'rhymes)': 1, 'grass...': 2, 'badger?': 1, 'Hawaiian': 1, 'Are': 1, \"revealed?I'm\": 1, 'offended': 1, 'low': 2, 'are.': 1, 'Especially': 1, '2!': 1, 'shit!I': 1, 'agree.': 2, 'should': 3, 'putting': 1, 'ridiculous.': 1, 'Well,': 1, 'there’s': 1, 'Torkoal': 1, 'Turtonator.They': 1, 'cropped': 1, 'trailer': 1, 'assume,': 1, 'result': 1, 'that>Because': 1, '\\n\\nAnd': 1, 'magnets,': 1, 'colour': 1, 'balls': 1, 'indistinct': 1, 'blobs': 1, 'sewage': 1, 'are?\\nBut': 1, 'dragon?': 1, 'so.A': 1, 'study': 1, 'done': 1, 'squirtle': 4, 'choice.': 1, 'gyms': 3, 'E4.': 1, 'however': 1, 'worth': 1, 'disadvantage.\\n\\nSource:': 1, 'https://blogs.scientificamerican.com/but-not-simpler/squirtle-i-should-choose-you-settling-a-great-pokemon-debate-with-science/': 1, 'ten': 1, 'time,': 1, 'out.': 1, 'IIRC,': 1, '100': 2, '60-70s.': 1, 'Once': 1, 'hit': 7, \"couldn't\": 1, 'wipe': 1, 'Venusaur,': 1, 'train': 1, 'game.\\n\\nAnd': 1, 'items,': 1, 'ton': 1, 'rare': 1, 'candies...': 1, 'That': 2, 'saved': 1, 'time.To': 1, 'honnest,': 1, 'despite': 1, 'common': 1, 'saying,': 1, 'worst,': 1, 'Having': 1, 'ran': 1, '1st': 1, 'countless': 1, '(both': 1, 'remake),': 1, 'conclusion': 1, 'to.': 1, '\\n\\n&#x200B;\\n\\nYeah': 1, 'ok,': 1, 'sucks': 1, 'gyms.': 1, 'You': 2, 'overlevel': 1, 'piece': 1, 'cake.': 1, '\"hard\"': 1, 'begining,': 1, 'well': 4, 'gym,': 2, '\\n\\n&#x200B;\\n\\nSquirtle': 1, 'around.': 1, 'destroyes': 1, 'Brock,': 1, 'Bite': 1, 'destroy': 1, 'simply': 1, 'strong': 3, 'game.\\n\\n&#x200B;\\n\\nBulbasaur': 1, 'gyms,': 1, 'ok.': 1, 'game?': 1, 'Its': 1, 'shit:': 1, 'Mt.': 1, 'INFINITELY': 1, 'harder': 1, 'shit': 3, 'moveset': 1, 'attacks': 4, 'typing.': 1, 'Fire.': 1, 'And,': 1, 'that,': 2, 'PP': 1, '(such': 1, 'razor': 1, 'leaf),': 1, 'constently': 1, 'batrack': 1, 'hospital': 1, 'battling': 1, 'trainers': 1, 'roads,': 1, 'lost': 1, 'cave.': 1, 'Finally,': 1, 'utter': 1, 'Elite': 2, 'solo': 1, 'phase': 1, 'overleveled.': 1, '\\n\\n&#x200B;\\n\\nWhen': 1, 'younger,': 1, 'believed': 1, 'trope': 1, 'grass=': 1, 'easy,': 2, '=': 5, 'medium,': 2, 'levelled': 1, 'faster': 2, 'evolved': 1, 'earlier': 1, 'two,': 2, 'biggest': 1, 'advantageSquirtle': 1, 'Blastoise,': 1, 'beam': 2, 'pwn': 1, 'dragons': 1, 'typeswell': 1, 'In': 2, 'difficulty,': 2, 'Blasstoise': 1, 'normal': 2, 'Charizard': 3, 'difficultySame': 1, 'lol.Piplup': 1, 'preferred': 1, 'pig': 4, 'more\\n\\nAnd': 1, 'Seal': 1, 'atall': 1, '(didnt': 1, 'help': 1, 'litten': 1, 'hella': 1, 'cute)I': 1, 'devil': 1, 'guitar': 1, 'hero': 1, 'campaign.': 1, 'down.Instantly': 1, 'Baphomet': 1, 'SMTI': 1, 'that’d': 1, 'ground->rock->fire/steel': 1, 'af': 3, 'Conversely,': 1, 'Meganium': 1, 'Level': 1, 'certain': 1, 'slam': 1, 'Razor': 1, 'Leaf': 1, 'everything.\\n\\nHis': 1, 'think.': 1, 'One': 1, 'badass': 1, 'series': 1, 'series,': 1, 'technically.': 1, 'rival.': 1, 'couldn’t': 1, 'Eevee.': 1, 'huge': 2, 'design/eyes/': 1, 'something.': 1, '\\n\\nYou': 1, 'power': 1, 'potential': 1, 'evolution.': 1, 'Archer': 1, \"you'd\": 1, 'route': 1, '2.': 1, 'rest.': 1, '>there': 1, \"magic\\n\\nIt's\": 1, 'called': 1, 'helped.': 1, 'Character': 1, 'development': 1, 'work': 1, 'then.The': 1, 'Reddit': 1, 'downvoted': 1, 'complimenting': 1, 'cat.': 1, 'historyThe': 1, '1ers': 1, 'furious': 1, 'lmaoThese': 1, 'homiesThe': 1, 'passable,': 1, 'agree': 1, 'statement.agreed': 1, 'froggy': 1, 'though.': 1, 'Like': 1, 'artistEh,': 1, 'liked.He’s': 1, 'grow': 1, 'jacked': 2, 'His': 1, 'ForestapeWhat': 1, 'mudkip?': 1, 'Wait...Yep,': 1, 'word.we’ve': 1, 'rabbits': 1, 'zero': 1, 'lolPenguin': 1, 'mehI': 1, 'bother': 1, 'n': 1, 'Moons': 1, 'tutorial': 1, 'ALL': 1, \"(That'd\": 1, 'though)': 1, 'B/W': 1, 'B2/W2': 1, 'gamesthat': 1, 'throws': 1, 'poison': 2, 'fairy': 1, 'fighting.I': 1, 'grass/fighting': 1, '(and': 1, 'likely),': 1, 'heard': 1, 'buzz': 1, 'fire/electric': 1, '(which': 1, 'love,': 1, 'weakness': 1, 'triangle)': 1, 'water/ghost,': 1, 'breaks': 1, 'secondary': 1, 'triangle.': 1, 'No,': 1, 'i’d': 1, 'green..': 1, 'duck?': 1, 'Amorphous': 1, 'blob?': 1, 'With': 2, 'squiggly': 1, 'coming': 2, 'creativity': 1, 'dried': 1, 'upGotcha': 1, 'thanks': 2, 'info!': 1, 'freaking': 1, 'generationsAfter': 1, 'generation’s': 1, 'enjoyed': 1, 'mostNeither': 1, '(until': 1, '6)What': 1, 'bullshit': 1, 'article': 4, 'actual': 1, 'data.': 2, '\\n\"': 1, 'note': 1, 'learns': 1, 'type-specific': 1, 'moves': 7, 'ability': 1, 'number': 1, 'powerful': 2, '“Dig”': 1, '“Mega': 1, 'Punch”': 1, 'cannot,': 1, '\\n\\n\\nSqurtle': 1, 'bubble': 1, 'gun': 1, '15': 1, 'bulbasuar': 1, 'leech': 1, 'seed': 1, 'vine': 1, 'whip': 1, 'lvl': 1, '13.': 1, '\\nCharmander': 1, 'dig': 1, 'mega': 1, 'punch.': 1, '\\n\"Pokémon': 1, 'enthusiats': 1, 'challenged': 1, 'points.\"': 1, 'Lol': 1, '\\nAh,': 1, 'meant': 3, 'included': 1, '(Bulbasaur)': 1, 'But,': 1, 'misremembering': 1, '*was*': 1, 'ages': 1, 'ago': 2, 'written': 1, 'noobOnion': 1, 'turtle.': 1, 'Few': 1, 'weeks': 1, 'finished': 1, 'four': 1, 'battles': 1, '80%': 1, 'exclusive': 1, 'moves.': 2, 'works,': 1, 'works.The': 1, 'Pig': 1, 'along': 1, 'TurtwigI': 1, 'wish': 1, 'empoleon': 1, 'sleek': 1, 'bulky.': 1, 'would’ve': 1, 'it!': 1, 'Fire/Psychic': 1, 'Goat': 1, \"Rockstar!It's\": 1, 'eyes.': 1, 'Modern': 1, 'eye': 1, 'triangle': 1, 'Maybe,': 1, 'not.': 1, 'whenever': 1, 'gold': 1, 'silver': 3, '(or': 1, 'remakes)': 1, 'starters.Same': 1, '24': 1, 'tepig': 1, 'couldnt': 1, 'reached': 1, 'town': 1, 'one.': 2, '(not': 2, '*good*,': 1, 'however...)I': 1, 'cos': 1, 'Inceneroar.': 1, \"Dude's\": 1, 'beastWell,': 1, 'theres': 2, 'limited': 1, 'amount': 1, 'official': 1, 'pictures': 1, 'currently': 1, 'available': 2, 'whoever': 1, 'cut': 1, 'paste': 1, 'photo,': 1, 'available.\\n\\n&#x200B;\\n\\nYou': 1, 'here': 1, 'artist': 1, 'right?': 1, 'Thats': 1, 'kinda': 1, 'life': 1, 'worksGen': 1, '7?': 1, 'Moon?': 1, 'far.': 1, 'Only': 1, '4.Yea': 1, \"i'm\": 1, 'imagining': 1, 'sort': 1, \"gorillaI'd\": 1, 'gorilla': 1, 'spins': 1, 'log': 1, 'bo': 1, 'staff': 1, '(grass/fighting).I': 1, 'approve': 1, 'thisI': 1, 'Was': 1, '21ish': 1, 'outLooking': 1, 'cheap': 1, 'knockoffs': 1, 'Of': 1, 'whole': 2, 'game,': 3, 'hours': 1, 'quitting.Aw': 1, 'man.': 1, 'Thanks': 1, 'info': 1, 'though!': 1, 'Too': 1, '(again)!I': 1, 'water/steel???': 1, 'sobble...How': 1, 'Dark,': 1, 'Fighting,': 1, 'Psychic?': 1, '???': 1, 'solar': 1, 'upgrade': 1, 'however,': 1, 'access': 1, 'surf,': 1, 'hydro': 1, 'pump': 1, 'bubblebeam': 1, 'reliable': 1, 'options.': 1, 'flamethrower': 1, 'fireblast': 1, 'STAB': 1, 'well.': 1, 'late': 4, 'venusaur': 1, 'job': 1, 'competitively,': 1, 'fairness,': 1, 'plays': 1, 'defensively': 1, 'AI': 1, 'outside': 1, 'battle': 1, 'tower?)\\n\\nIn': 1, 'rocks': 1, 'SE': 6, 'resist': 1, 'third.': 1, 'hits': 2, 'gym': 2, '8,': 2, 'resisted': 2, 'super': 2, 'effectively': 1, '7.': 2, 'loreleis': 1, 'E4,': 1, 'although': 1, 'types.': 2, 'struggles': 3, 'Lance': 3, 'due': 3, 'dragonites': 1, 'resist,': 1, 'part': 1, 'flying': 2, 'well.\\n\\nCharmander': 1, 'difficulties.': 1, 'neutral': 5, '6,': 2, 'bug': 1, 'resists': 3, 'turn.': 1, 'interesting,': 1, 'immune': 1, 'ground': 1, 'wrecked': 1, 'rock': 1, 'E4': 1, 'sees': 1, 'struggle': 1, 'loreleis,': 1, 'Bruno': 2, 'moves,': 1, 'Agatha,': 2, 'aerodactyl,': 1, 'Gyarados': 1, 'dragonite.\\n\\nThat': 1, 'leaves': 1, 'squirtle.': 1, 'Middling': 1, 'game:': 1, '1,': 1, 'whilst': 1, 'resisted,': 1, 'lorelei': 1, 'part,': 1, 'pack': 1, 'dragonite,': 1, 'Charizard,': 1, 'aerodactyl.': 1, 'Neutral': 1, 'Gyarados.\\n\\nBroadly': 1, 'solely': 1, 'focusing': 1, 'needs': 1, 'support': 1, 'team': 2, 'mates': 1, 'carry': 1, 'own': 1, 'view.Ok': 1, \"i'll\": 1, 'completely': 1, 'quick': 1, 'google~~it': 1, 'late~~.': 1, 'paragraphs': 1, 'assumed': 2, 'article.': 1, 'apologize': 1, 'articleFor': 1, 'definitely': 1, 'IMOBulbasaur': 1, 'leaders.': 1, 'third': 1, '(Lt.': 1, 'Surge)': 1, 'Electric': 1, 'Grass.': 1, 'resistant': 1, 'Gym': 1, 'leader,': 1, 'Erika': 1, '(Grass)': 1, 'Koga': 1, '(Poison).\\n\\nYou': 1, 'vulnerable': 1, 'Sabrina': 1, '(Psychic)': 1, 'Blaine': 1, '(Fire)': 1, 'enough': 1, 'deal': 1, 'stage.Woops': 1, 'seashell': 1, 'stomach': 1, 'Oshawott.': 1, 'Passed': 1, 'oneSerperior': 1, 'good.Go': 1, 'Hamstars': 1, 'face!Which': 1, 'funny': 1, 'Incineroar': 1, '\\n\\n&#x200B;\\n\\nI': 1, 'assume': 1, 'Emboar?Oh': 1, 'sicko': 1, 'mode.': 1, 'Well': 1, 'clarifying': 1, 'Worst': 1, 'maybe,': 1, 'hugely': 1, 'popular': 1, 'moment': 1, 'them.That’s': 1, 'badass.': 1, 'Call': 1, 'YuccakongWhat': 1, 'make?': 1, 'Like,': 1, 'ugly': 1, 'green,': 1, 'right?Had': 1, 'idea': 1, 'penguin': 1, \"\\n\\nWhat's\": 1, 'called?I': 1, 'pain': 1, 'friend...too': 1, 'well....My': 1, 'electric': 1, 'tbh': 1, 'fin': 1, 'yellowCharizard': 1, 'fire-flying': 1, 'type.\\n\\nMega': 1, 'fire-dragon': 1, 'introduced': 1, '6Your': 1, 'post': 1, 'insightful': 1, 'information': 1, 'article.Thanks': 1, 'info,': 1, \"weirdIt's\": 1, 'awhile': 1, 'blanking': 1, \"who's\": 1, 'Blastoise.': 1, 'primary': 1, '(Charizard,': 1, 'Gengar,': 1, 'Raichu)': 1, 'Id': 2, 'options': 4, 'matters': 1, 'all,': 1, '\"best': 1, 'setup\"': 1, 'important': 1, 'step': 1, 'nidoran': 1, 'stone': 1, 'breeze': 1, '14': 1, 'nidoking/queen..': 1, 'pokemon\\n\\nEdit:': 1, 'record,': 1, 'Fires': 1, 'all.': 1, 'saying': 1, 'fanboy\\n\\n': 1, 'Example;': 1, 'fire-water-grass': 1, 'trinity': 1, 'Lets': 1, '(a': 1, 'starters)': 1, 'Arcanine,': 1, 'Victreebell': 1, 'PoliwrathWas': 1, 'best,': 1, 'stages.hahaha': 1, 'yess,': 1, 'incineroar': 1, 'smash': 2, 'confused': 1, 'nameIm': 1, 'positive,': 1, 'outline.': 1, '\\n\\n&#x200B;\\n\\nBut': 1, 'mean,': 1, 'course': 1, 'twenty': 1, 'years,': 1, 'artists': 1, 'change.': 1, '\"Pokemon': 1, 'Look\"': 1, 'gen.': 1, 'idea.Thats': 1, 'contrary': 1, 'experience,': 1, 'own.': 1, 'im': 1, 'harambe': 1, 'meWtf': 1, 'Nintendo,': 1, 'u': 1, 'r': 1, 'home': 1, 'drunkA': 1, 'Arcanine': 1, 'Rapidash': 1, 'Charizard.': 1, 'Victreebel': 1, 'Vileplume': 1, 'Venusaur.': 1, 'rocking': 1, 'Muk': 1, 'AF': 1, 'rarely': 1, 'Between': 1, 'arcanine,': 2, 'rapidash,': 1, 'ninetales': 1, 'moltres': 3, 'covered.To': 1, 'fair,': 1, 'Emboar': 1, 'great.': 1, 'exeggutor,': 1, 'victreebell': 1, 'vileplume': 1, 'rapidash': 1, 'ninetales.\\n\\nI': 1, 'count': 1, 'Ive': 1, 'using': 1, 'legendaries': 1, 'playthroughs': 1, 'hes': 1, '(although': 1, 'becomes': 1, 'game)': 1}\n"
     ]
    }
   ],
   "source": [
    "print(my_dict)"
   ]
  },
  {
   "cell_type": "code",
   "execution_count": 52,
   "metadata": {},
   "outputs": [
    {
     "name": "stdout",
     "output_type": "stream",
     "text": [
      "{'grass': 24, 'water': 32, 'fire': 36, 'Fire': 3, 'Water': 5, 'Water,': 1, 'water,': 4, 'grass,': 4, 'Grass': 8, 'Grass,': 2, 'Fire,': 2, 'fire,': 2, 'water.': 2, 'Fire.': 1, 'Grass.': 1}\n"
     ]
    }
   ],
   "source": [
    "###I wanted to filter the dictionary \"my_dict\" to get only the keys and values that I wanted.\n",
    "#I would create several dictionaries to make it easier to look at the results\n",
    "#After taking a look at the content of \"my_dict\", I noticed a problem with this method: \n",
    "#it did not include keys which have special characters after the keys \n",
    "#For example, \"grass,\" and \"grass.\" were not included.\n",
    "#I decided to solve this problem by adding more conditions.\n",
    "\n",
    "filtered_dict_type = {}\n",
    "for key, value in my_dict.items():\n",
    "    if (key == \"grass\"):\n",
    "        filtered_dict_type[key] = value\n",
    "    elif (key == \"grass,\"):\n",
    "        filtered_dict_type[key] = value\n",
    "    elif (key == \"grass.\"):\n",
    "        filtered_dict_type[key] = value\n",
    "    elif (key == \"Grass\"):\n",
    "        filtered_dict_type[key] = value\n",
    "    elif (key == \"Grass,\"):\n",
    "        filtered_dict_type[key] = value\n",
    "    elif (key == \"Grass.\"):\n",
    "        filtered_dict_type[key] = value\n",
    "    elif (key == \"fire\"):\n",
    "        filtered_dict_type[key] = value\n",
    "    elif (key == \"fire,\"):\n",
    "        filtered_dict_type[key] = value\n",
    "    elif (key == \"fire.\"):\n",
    "        filtered_dict_type[key] = value\n",
    "    elif (key == \"Fire\"):\n",
    "        filtered_dict_type[key] = value\n",
    "    elif (key == \"Fire,\"):\n",
    "        filtered_dict_type[key] = value\n",
    "    elif (key == \"Fire.\"):\n",
    "        filtered_dict_type[key] = value\n",
    "    elif (key == \"water\"):\n",
    "        filtered_dict_type[key] = value\n",
    "    elif (key == \"water,\"):\n",
    "        filtered_dict_type[key] = value\n",
    "    elif (key == \"water.\"):\n",
    "        filtered_dict_type[key] = value\n",
    "    elif (key == \"Water\"):\n",
    "        filtered_dict_type[key] = value\n",
    "    elif (key == \"Water,\"):\n",
    "        filtered_dict_type[key] = value\n",
    "    elif (key == \"Water.\"):\n",
    "        filtered_dict_type[key] = value\n",
    "    \n",
    "print(filtered_dict_type)"
   ]
  },
  {
   "cell_type": "code",
   "execution_count": 53,
   "metadata": {},
   "outputs": [
    {
     "name": "stdout",
     "output_type": "stream",
     "text": [
      "{'Bulbasaur,': 2, 'Bulbasaur': 13, 'Charmander': 7, 'Squirtle': 5, 'Charmander,': 2, 'Squirtle,': 1, 'charmander': 1, 'bulbasaur': 2, 'squirtle': 4, 'squirtle.': 1}\n"
     ]
    }
   ],
   "source": [
    "###From this point onwards, I would create a dictionary for each generation of pokemon starters\n",
    "#Generation 1:\n",
    "\n",
    "filtered_dict_gen1 = {}\n",
    "for key, value in my_dict.items():\n",
    "    if (key == \"bulbasaur\"):\n",
    "        filtered_dict_gen1[key] = value\n",
    "    elif (key == \"bulbasaur,\"):\n",
    "        filtered_dict_gen1[key] = value\n",
    "    elif (key == \"bulbasaur.\"):\n",
    "        filtered_dict_gen1[key] = value\n",
    "    elif (key == \"Bulbasaur\"):\n",
    "        filtered_dict_gen1[key] = value\n",
    "    elif (key == \"Bulbasaur,\"):\n",
    "        filtered_dict_gen1[key] = value\n",
    "    elif (key == \"Bulbasaur.\"):\n",
    "        filtered_dict_gen1[key] = value\n",
    "    elif (key == \"charmander\"):\n",
    "        filtered_dict_gen1[key] = value\n",
    "    elif (key == \"charmander,\"):\n",
    "        filtered_dict_gen1[key] = value\n",
    "    elif (key == \"charmander.\"):\n",
    "        filtered_dict_gen1[key] = value\n",
    "    elif (key == \"Charmander\"):\n",
    "        filtered_dict_gen1[key] = value\n",
    "    elif (key == \"Charmander,\"):\n",
    "        filtered_dict_gen1[key] = value\n",
    "    elif (key == \"Charmander.\"):\n",
    "        filtered_dict_gen1[key] = value\n",
    "    elif (key == \"squirtle\"):\n",
    "        filtered_dict_gen1[key] = value\n",
    "    elif (key == \"squirtle,\"):\n",
    "        filtered_dict_gen1[key] = value\n",
    "    elif (key == \"squirtle.\"):\n",
    "        filtered_dict_gen1[key] = value\n",
    "    elif (key == \"Squirtle\"):\n",
    "        filtered_dict_gen1[key] = value\n",
    "    elif (key == \"Squirtle,\"):\n",
    "        filtered_dict_gen1[key] = value\n",
    "    elif (key == \"Squirtle.\"):\n",
    "        filtered_dict_gen1[key] = value\n",
    "\n",
    "print(filtered_dict_gen1)"
   ]
  },
  {
   "cell_type": "code",
   "execution_count": 54,
   "metadata": {},
   "outputs": [
    {
     "name": "stdout",
     "output_type": "stream",
     "text": [
      "{'Chikorita,': 1, 'Totodile': 3, 'Cyndaquil': 3, 'Totodile,': 2, 'Chikorita': 1, 'cyndaquil': 1, 'chikorita': 1}\n"
     ]
    }
   ],
   "source": [
    "#Generation 2:\n",
    "\n",
    "filtered_dict_gen2 = {}\n",
    "for key, value in my_dict.items():\n",
    "    if (key == \"chikorita\"):\n",
    "        filtered_dict_gen2[key] = value\n",
    "    elif (key == \"chikorita,\"):\n",
    "        filtered_dict_gen2[key] = value\n",
    "    elif (key == \"chikorita.\"):\n",
    "        filtered_dict_gen2[key] = value\n",
    "    elif (key == \"Chikorita\"):\n",
    "        filtered_dict_gen2[key] = value\n",
    "    elif (key == \"Chikorita,\"):\n",
    "        filtered_dict_gen2[key] = value\n",
    "    elif (key == \"Chikorita.\"):\n",
    "        filtered_dict_gen2[key] = value\n",
    "    elif (key == \"cyndaquil\"):\n",
    "        filtered_dict_gen2[key] = value\n",
    "    elif (key == \"cyndaquil,\"):\n",
    "        filtered_dict_gen2[key] = value\n",
    "    elif (key == \"cyndaquil.\"):\n",
    "        filtered_dict_gen2[key] = value\n",
    "    elif (key == \"Cyndaquil\"):\n",
    "        filtered_dict_gen2[key] = value\n",
    "    elif (key == \"Cyndaquil,\"):\n",
    "        filtered_dict_gen2[key] = value\n",
    "    elif (key == \"Cyndaquil.\"):\n",
    "        filtered_dict_gen2[key] = value\n",
    "    elif (key == \"totodile\"):\n",
    "        filtered_dict_gen2[key] = value\n",
    "    elif (key == \"totodile,\"):\n",
    "        filtered_dict_gen2[key] = value\n",
    "    elif (key == \"totodile.\"):\n",
    "        filtered_dict_gen2[key] = value\n",
    "    elif (key == \"Totodile\"):\n",
    "        filtered_dict_gen2[key] = value\n",
    "    elif (key == \"Totodile,\"):\n",
    "        filtered_dict_gen2[key] = value\n",
    "    elif (key == \"Totodile.\"):\n",
    "        filtered_dict_gen2[key] = value\n",
    "print(filtered_dict_gen2)"
   ]
  },
  {
   "cell_type": "code",
   "execution_count": 55,
   "metadata": {},
   "outputs": [
    {
     "name": "stdout",
     "output_type": "stream",
     "text": [
      "{'Mudkip,': 1, 'mudkip.': 1, 'mudkip': 2, 'torchic': 1, 'Treecko': 3, 'Treecko,': 1, 'Mudkip': 1, 'treecko': 1, 'Torchic': 1, 'mudkip,': 1}\n"
     ]
    }
   ],
   "source": [
    "#Generation 3:\n",
    "\n",
    "filtered_dict_gen3 = {}\n",
    "for key, value in my_dict.items():\n",
    "    if (key == \"treecko\"):\n",
    "        filtered_dict_gen3[key] = value\n",
    "    elif (key == \"treecko,\"):\n",
    "        filtered_dict_gen3[key] = value\n",
    "    elif (key == \"treecko.\"):\n",
    "        filtered_dict_gen3[key] = value\n",
    "    elif (key == \"Treecko\"):\n",
    "        filtered_dict_gen3[key] = value\n",
    "    elif (key == \"Treecko,\"):\n",
    "        filtered_dict_gen3[key] = value\n",
    "    elif (key == \"Treecko.\"):\n",
    "        filtered_dict_gen3[key] = value\n",
    "    elif (key == \"torchic\"):\n",
    "        filtered_dict_gen3[key] = value\n",
    "    elif (key == \"torchic,\"):\n",
    "        filtered_dict_gen3[key] = value\n",
    "    elif (key == \"torchic.\"):\n",
    "        filtered_dict_gen3[key] = value\n",
    "    elif (key == \"Torchic\"):\n",
    "        filtered_dict_gen3[key] = value\n",
    "    elif (key == \"Torchic,\"):\n",
    "        filtered_dict_gen3[key] = value\n",
    "    elif (key == \"Torchic.\"):\n",
    "        filtered_dict_gen3[key] = value\n",
    "    elif (key == \"mudkip\"):\n",
    "        filtered_dict_gen3[key] = value\n",
    "    elif (key == \"mudkip,\"):\n",
    "        filtered_dict_gen3[key] = value\n",
    "    elif (key == \"mudkip.\"):\n",
    "        filtered_dict_gen3[key] = value\n",
    "    elif (key == \"Mudkip\"):\n",
    "        filtered_dict_gen3[key] = value\n",
    "    elif (key == \"Mudkip,\"):\n",
    "        filtered_dict_gen3[key] = value\n",
    "    elif (key == \"Mudkip.\"):\n",
    "        filtered_dict_gen3[key] = value\n",
    "\n",
    "print(filtered_dict_gen3)"
   ]
  },
  {
   "cell_type": "code",
   "execution_count": 56,
   "metadata": {},
   "outputs": [
    {
     "name": "stdout",
     "output_type": "stream",
     "text": [
      "{'Chimchar,': 1, 'turtwig,': 1, 'Chimchar': 3, 'chimchar,': 2, 'piplup,': 1, 'Piplup': 2, 'turtwig': 1, 'chimchar': 1}\n"
     ]
    }
   ],
   "source": [
    "#Generation 4:\n",
    "\n",
    "filtered_dict_gen4 = {}\n",
    "for key, value in my_dict.items():\n",
    "    if (key == \"turtwig\"):\n",
    "        filtered_dict_gen4[key] = value\n",
    "    elif (key == \"turtwig,\"):\n",
    "        filtered_dict_gen4[key] = value\n",
    "    elif (key == \"turtwig.\"):\n",
    "        filtered_dict_gen4[key] = value\n",
    "    elif (key == \"Turtqig\"):\n",
    "        filtered_dict_gen4[key] = value\n",
    "    elif (key == \"Turtwig,\"):\n",
    "        filtered_dict_gen4[key] = value\n",
    "    elif (key == \"Turtwig.\"):\n",
    "        filtered_dict_gen4[key] = value\n",
    "    elif (key == \"chimchar\"):\n",
    "        filtered_dict_gen4[key] = value\n",
    "    elif (key == \"chimchar,\"):\n",
    "        filtered_dict_gen4[key] = value\n",
    "    elif (key == \"chimchar.\"):\n",
    "        filtered_dict_gen4[key] = value\n",
    "    elif (key == \"Chimchar\"):\n",
    "        filtered_dict_gen4[key] = value\n",
    "    elif (key == \"Chimchar,\"):\n",
    "        filtered_dict_gen4[key] = value\n",
    "    elif (key == \"Chimchar.\"):\n",
    "        filtered_dict_gen4[key] = value\n",
    "    elif (key == \"piplup\"):\n",
    "        filtered_dict_gen4[key] = value\n",
    "    elif (key == \"piplup,\"):\n",
    "        filtered_dict_gen4[key] = value\n",
    "    elif (key == \"piplup.\"):\n",
    "        filtered_dict_gen4[key] = value\n",
    "    elif (key == \"Piplup\"):\n",
    "        filtered_dict_gen4[key] = value\n",
    "    elif (key == \"Piplup,\"):\n",
    "        filtered_dict_gen4[key] = value\n",
    "    elif (key == \"Piplup.\"):\n",
    "        filtered_dict_gen4[key] = value\n",
    "\n",
    "print(filtered_dict_gen4)"
   ]
  },
  {
   "cell_type": "code",
   "execution_count": 57,
   "metadata": {},
   "outputs": [
    {
     "name": "stdout",
     "output_type": "stream",
     "text": [
      "{'Snivy,': 2, 'Snivy': 1, 'tepig': 1, 'Oshawott.': 1}\n"
     ]
    }
   ],
   "source": [
    "#Generation 5:\n",
    "\n",
    "filtered_dict_gen5 = {}\n",
    "for key, value in my_dict.items():\n",
    "    if (key == \"snivy\"):\n",
    "        filtered_dict_gen5[key] = value\n",
    "    elif (key == \"snivy,\"):\n",
    "        filtered_dict_gen5[key] = value\n",
    "    elif (key == \"snivy.\"):\n",
    "        filtered_dict_gen5[key] = value\n",
    "    elif (key == \"Snivy\"):\n",
    "        filtered_dict_gen5[key] = value\n",
    "    elif (key == \"Snivy,\"):\n",
    "        filtered_dict_gen5[key] = value\n",
    "    elif (key == \"Snivy.\"):\n",
    "        filtered_dict_gen5[key] = value\n",
    "    elif (key == \"tepig\"):\n",
    "        filtered_dict_gen5[key] = value\n",
    "    elif (key == \"tepig,\"):\n",
    "        filtered_dict_gen5[key] = value\n",
    "    elif (key == \"tepig.\"):\n",
    "        filtered_dict_gen5[key] = value\n",
    "    elif (key == \"Tepig\"):\n",
    "        filtered_dict_gen5[key] = value\n",
    "    elif (key == \"Tepig,\"):\n",
    "        filtered_dict_gen5[key] = value\n",
    "    elif (key == \"Tepig.\"):\n",
    "        filtered_dict_gen5[key] = value\n",
    "    elif (key == \"oshawott\"):\n",
    "        filtered_dict_gen5[key] = value\n",
    "    elif (key == \"oshawott,\"):\n",
    "        filtered_dict_gen5[key] = value\n",
    "    elif (key == \"oshawott.\"):\n",
    "        filtered_dict_gen5[key] = value\n",
    "    elif (key == \"Oshawott\"):\n",
    "        filtered_dict_gen5[key] = value\n",
    "    elif (key == \"Oshawott,\"):\n",
    "        filtered_dict_gen5[key] = value\n",
    "    elif (key == \"Oshawott.\"):\n",
    "        filtered_dict_gen5[key] = value\n",
    "\n",
    "print(filtered_dict_gen5)"
   ]
  },
  {
   "cell_type": "code",
   "execution_count": 58,
   "metadata": {},
   "outputs": [
    {
     "name": "stdout",
     "output_type": "stream",
     "text": [
      "{'Chespin': 2, 'Froakie,': 1, 'chespin': 3, 'fennekin': 1, 'Fennekin': 2, 'Fennekin.': 1, 'froakie': 1, 'Froakie': 1}\n"
     ]
    }
   ],
   "source": [
    "#Generation 6:\n",
    "\n",
    "filtered_dict_gen6 = {}\n",
    "for key, value in my_dict.items():\n",
    "    if (key == \"chespin\"):\n",
    "        filtered_dict_gen6[key] = value\n",
    "    elif (key == \"chespin,\"):\n",
    "        filtered_dict_gen6[key] = value\n",
    "    elif (key == \"chespin.\"):\n",
    "        filtered_dict_gen6[key] = value\n",
    "    elif (key == \"Chespin\"):\n",
    "        filtered_dict_gen6[key] = value\n",
    "    elif (key == \"Chespin,\"):\n",
    "        filtered_dict_gen6[key] = value\n",
    "    elif (key == \"Chespin.\"):\n",
    "        filtered_dict_gen6[key] = value\n",
    "    elif (key == \"fennekin\"):\n",
    "        filtered_dict_gen6[key] = value\n",
    "    elif (key == \"fennekin,\"):\n",
    "        filtered_dict_gen6[key] = value\n",
    "    elif (key == \"fennekin.\"):\n",
    "        filtered_dict_gen6[key] = value\n",
    "    elif (key == \"Fennekin\"):\n",
    "        filtered_dict_gen6[key] = value\n",
    "    elif (key == \"Fennekin,\"):\n",
    "        filtered_dict_gen6[key] = value\n",
    "    elif (key == \"Fennekin.\"):\n",
    "        filtered_dict_gen6[key] = value\n",
    "    elif (key == \"froakie\"):\n",
    "        filtered_dict_gen6[key] = value\n",
    "    elif (key == \"froakie,\"):\n",
    "        filtered_dict_gen6[key] = value\n",
    "    elif (key == \"froakie.\"):\n",
    "        filtered_dict_gen6[key] = value\n",
    "    elif (key == \"Froakie\"):\n",
    "        filtered_dict_gen6[key] = value\n",
    "    elif (key == \"Froakie,\"):\n",
    "        filtered_dict_gen6[key] = value\n",
    "    elif (key == \"Froakie.\"):\n",
    "        filtered_dict_gen6[key] = value\n",
    "\n",
    "print(filtered_dict_gen6)"
   ]
  },
  {
   "cell_type": "code",
   "execution_count": 59,
   "metadata": {},
   "outputs": [
    {
     "name": "stdout",
     "output_type": "stream",
     "text": [
      "{'Rowlet,': 1, 'Popplio': 1, 'litten': 1}\n"
     ]
    }
   ],
   "source": [
    "#Generation 7:\n",
    "\n",
    "filtered_dict_gen7 = {}\n",
    "for key, value in my_dict.items():\n",
    "    if (key == \"rowlet\"):\n",
    "        filtered_dict_gen7[key] = value\n",
    "    elif (key == \"rowlet,\"):\n",
    "        filtered_dict_gen7[key] = value\n",
    "    elif (key == \"rowlet.\"):\n",
    "        filtered_dict_gen7[key] = value\n",
    "    elif (key == \"Rowlet\"):\n",
    "        filtered_dict_gen7[key] = value\n",
    "    elif (key == \"Rowlet,\"):\n",
    "        filtered_dict_gen7[key] = value\n",
    "    elif (key == \"Rowlet.\"):\n",
    "        filtered_dict_gen7[key] = value\n",
    "    elif (key == \"litten\"):\n",
    "        filtered_dict_gen7[key] = value\n",
    "    elif (key == \"litten,\"):\n",
    "        filtered_dict_gen7[key] = value\n",
    "    elif (key == \"litten.\"):\n",
    "        filtered_dict_gen7[key] = value\n",
    "    elif (key == \"Litten\"):\n",
    "        filtered_dict_gen7[key] = value\n",
    "    elif (key == \"Litten,\"):\n",
    "        filtered_dict_gen7[key] = value\n",
    "    elif (key == \"Litten.\"):\n",
    "        filtered_dict_gen7[key] = value\n",
    "    elif (key == \"popplio\"):\n",
    "        filtered_dict_gen7[key] = value\n",
    "    elif (key == \"popplio,\"):\n",
    "        filtered_dict_gen7[key] = value\n",
    "    elif (key == \"popplio.\"):\n",
    "        filtered_dict_gen7[key] = value\n",
    "    elif (key == \"Popplio\"):\n",
    "        filtered_dict_gen7[key] = value\n",
    "    elif (key == \"Popplio,\"):\n",
    "        filtered_dict_gen7[key] = value\n",
    "    elif (key == \"Popplio.\"):\n",
    "        filtered_dict_gen7[key] = value\n",
    "\n",
    "print(filtered_dict_gen7)"
   ]
  },
  {
   "cell_type": "code",
   "execution_count": 60,
   "metadata": {},
   "outputs": [
    {
     "name": "stdout",
     "output_type": "stream",
     "text": [
      "{'Scorbunny': 3, 'Sobble': 3, 'sobble': 1, 'Grookey': 2}\n"
     ]
    }
   ],
   "source": [
    "#Generation 8:\n",
    "\n",
    "filtered_dict_gen8 = {}\n",
    "for key, value in my_dict.items():\n",
    "    if (key == \"grookey\"):\n",
    "        filtered_dict_gen8[key] = value\n",
    "    elif (key == \"grookey,\"):\n",
    "        filtered_dict_gen8[key] = value\n",
    "    elif (key == \"grookey.\"):\n",
    "        filtered_dict_gen8[key] = value\n",
    "    elif (key == \"Grookey\"):\n",
    "        filtered_dict_gen8[key] = value\n",
    "    elif (key == \"Grookey,\"):\n",
    "        filtered_dict_gen8[key] = value\n",
    "    elif (key == \"Grookey.\"):\n",
    "        filtered_dict_gen8[key] = value\n",
    "    elif (key == \"scorbunny\"):\n",
    "        filtered_dict_gen8[key] = value\n",
    "    elif (key == \"scorbunny,\"):\n",
    "        filtered_dict_gen8[key] = value\n",
    "    elif (key == \"scorbunny.\"):\n",
    "        filtered_dict_gen8[key] = value\n",
    "    elif (key == \"Scorbunny\"):\n",
    "        filtered_dict_gen8[key] = value\n",
    "    elif (key == \"Scorbunny,\"):\n",
    "        filtered_dict_gen8[key] = value\n",
    "    elif (key == \"Scorbunny.\"):\n",
    "        filtered_dict_gen8[key] = value\n",
    "    elif (key == \"sobble\"):\n",
    "        filtered_dict_gen8[key] = value\n",
    "    elif (key == \"sobble,\"):\n",
    "        filtered_dict_gen8[key] = value\n",
    "    elif (key == \"sobble.\"):\n",
    "        filtered_dict_gen8[key] = value\n",
    "    elif (key == \"Sobble\"):\n",
    "        filtered_dict_gen8[key] = value\n",
    "    elif (key == \"Sobble,\"):\n",
    "        filtered_dict_gen8[key] = value\n",
    "    elif (key == \"Sobble.\"):\n",
    "        filtered_dict_gen8[key] = value\n",
    "        \n",
    "print(filtered_dict_gen8)"
   ]
  },
  {
   "cell_type": "code",
   "execution_count": 61,
   "metadata": {},
   "outputs": [
    {
     "name": "stdout",
     "output_type": "stream",
     "text": [
      "{'grass': 24, 'water': 32, 'fire': 36, 'Fire': 3, 'Water': 5, 'Water,': 1, 'water,': 4, 'grass,': 4, 'Grass': 8, 'Grass,': 2, 'Fire,': 2, 'fire,': 2, 'water.': 2, 'Fire.': 1, 'Grass.': 1}\n",
      "{'Bulbasaur,': 2, 'Bulbasaur': 13, 'Charmander': 7, 'Squirtle': 5, 'Charmander,': 2, 'Squirtle,': 1, 'charmander': 1, 'bulbasaur': 2, 'squirtle': 4, 'squirtle.': 1}\n",
      "{'Chikorita,': 1, 'Totodile': 3, 'Cyndaquil': 3, 'Totodile,': 2, 'Chikorita': 1, 'cyndaquil': 1, 'chikorita': 1}\n",
      "{'Mudkip,': 1, 'mudkip.': 1, 'mudkip': 2, 'torchic': 1, 'Treecko': 3, 'Treecko,': 1, 'Mudkip': 1, 'treecko': 1, 'Torchic': 1, 'mudkip,': 1}\n",
      "{'Chimchar,': 1, 'turtwig,': 1, 'Chimchar': 3, 'chimchar,': 2, 'piplup,': 1, 'Piplup': 2, 'turtwig': 1, 'chimchar': 1}\n",
      "{'Snivy,': 2, 'Snivy': 1, 'tepig': 1, 'Oshawott.': 1}\n",
      "{'Chespin': 2, 'Froakie,': 1, 'chespin': 3, 'fennekin': 1, 'Fennekin': 2, 'Fennekin.': 1, 'froakie': 1, 'Froakie': 1}\n",
      "{'Rowlet,': 1, 'Popplio': 1, 'litten': 1}\n",
      "{'Scorbunny': 3, 'Sobble': 3, 'sobble': 1, 'Grookey': 2}\n"
     ]
    }
   ],
   "source": [
    "###In this step, I wanted to take a look at all the dictionaries I had created\n",
    "\n",
    "print(filtered_dict_type)\n",
    "print(filtered_dict_gen1)\n",
    "print(filtered_dict_gen2)\n",
    "print(filtered_dict_gen3)\n",
    "print(filtered_dict_gen4)\n",
    "print(filtered_dict_gen5)\n",
    "print(filtered_dict_gen6)\n",
    "print(filtered_dict_gen7)\n",
    "print(filtered_dict_gen8)"
   ]
  },
  {
   "cell_type": "code",
   "execution_count": 62,
   "metadata": {},
   "outputs": [],
   "source": [
    "###Finally, I wanted to visualize my dictionaries\n",
    "#I figured that I needed to turn them into dataframes\n",
    "#At first, my code was: df_type = pd.DataFrame(filtered_dict_type,index=[0])\n",
    "#This resulted in a dataframe in which the keys were columns (by default)\n",
    "#The \"index=[0] is needed because the dictionaries contain scalar values\n",
    "#To make the dataframes look more presentable, I wanted the keys to be rows instead.\n",
    "#So I changed the orientation of the dataframe\n",
    "\n",
    "df_type = pd.DataFrame.from_dict(filtered_dict_type, orient='index', columns = [\"Counts\"])"
   ]
  },
  {
   "cell_type": "code",
   "execution_count": 63,
   "metadata": {},
   "outputs": [
    {
     "name": "stdout",
     "output_type": "stream",
     "text": [
      "        Counts\n",
      "grass       24\n",
      "water       32\n",
      "fire        36\n",
      "Fire         3\n",
      "Water        5\n",
      "Water,       1\n",
      "water,       4\n",
      "grass,       4\n",
      "Grass        8\n",
      "Grass,       2\n",
      "Fire,        2\n",
      "fire,        2\n",
      "water.       2\n",
      "Fire.        1\n",
      "Grass.       1\n"
     ]
    }
   ],
   "source": [
    "###Checking if my code works so that I could repeat this step\n",
    "\n",
    "print(df_type)"
   ]
  },
  {
   "cell_type": "code",
   "execution_count": 64,
   "metadata": {},
   "outputs": [],
   "source": [
    "df_gen1 = pd.DataFrame.from_dict(filtered_dict_gen1, orient='index', columns = [\"Counts\"])\n",
    "df_gen2 = pd.DataFrame.from_dict(filtered_dict_gen1, orient='index', columns = [\"Counts\"])\n",
    "df_gen3 = pd.DataFrame.from_dict(filtered_dict_gen1, orient='index', columns = [\"Counts\"])\n",
    "df_gen4 = pd.DataFrame.from_dict(filtered_dict_gen1, orient='index', columns = [\"Counts\"])\n",
    "df_gen5 = pd.DataFrame.from_dict(filtered_dict_gen1, orient='index', columns = [\"Counts\"])\n",
    "df_gen6 = pd.DataFrame.from_dict(filtered_dict_gen1, orient='index', columns = [\"Counts\"])\n",
    "df_gen7 = pd.DataFrame.from_dict(filtered_dict_gen1, orient='index', columns = [\"Counts\"])\n",
    "df_gen8 = pd.DataFrame.from_dict(filtered_dict_gen1, orient='index', columns = [\"Counts\"])"
   ]
  },
  {
   "cell_type": "code",
   "execution_count": 65,
   "metadata": {
    "scrolled": true
   },
   "outputs": [
    {
     "data": {
      "image/png": "[encoded data removed]",
      "text/plain": [
       "<Figure size 432x288 with 1 Axes>"
      ]
     },
     "metadata": {
      "needs_background": "light"
     },
     "output_type": "display_data"
    }
   ],
   "source": [
    "###I visualized my dataframes using the .plot.bar method in pandas\n",
    "\n",
    "vi_df_type = df_type.plot.bar(rot=0)"
   ]
  },
  {
   "cell_type": "code",
   "execution_count": 66,
   "metadata": {},
   "outputs": [],
   "source": [
    "###The same step could be applied to the other dataframes\n",
    "\n",
    "#vi_df_gen1 = df_type.plot.bar(rot=0)\n",
    "#vi_df_gen2 = df_type.plot.bar(rot=0)\n",
    "#vi_df_gen3 = df_type.plot.bar(rot=0)\n",
    "#vi_df_gen4 = df_type.plot.bar(rot=0)\n",
    "#vi_df_gen5 = df_type.plot.bar(rot=0)\n",
    "#vi_df_gen6 = df_type.plot.bar(rot=0)\n",
    "#vi_df_gen7 = df_type.plot.bar(rot=0)\n",
    "#vi_df_gen8 = df_type.plot.bar(rot=0)"
   ]
  },
  {
   "cell_type": "code",
   "execution_count": 67,
   "metadata": {},
   "outputs": [],
   "source": [
    "###In the end, I realized that this second attempt was even more time-consuming and required\n",
    "#a lot more codes. Moreover, the counts of words in the second attempt were lower than those in\n",
    "#the first. Take \"grass\" as an example, there is a huge difference, with 39 compared to 68.\n",
    "#This means, in my second attempt, I did not managed to count all the wanted words.\n",
    "#Although it took me a lot of time, I was able to learn about Counter, how to adjust \n",
    "#the orientation of the dataframe as I turned a dictionary into a dataframe.\n",
    "#I really learned how to learned from practical experience."
   ]
  },
  {
   "cell_type": "code",
   "execution_count": null,
   "metadata": {},
   "outputs": [],
   "source": []
  }
 ],
 "metadata": {
  "kernelspec": {
   "display_name": "Python 3",
   "language": "python",
   "name": "python3"
  },
  "language_info": {
   "codemirror_mode": {
    "name": "ipython",
    "version": 3
   },
   "file_extension": ".py",
   "mimetype": "text/x-python",
   "name": "python",
   "nbconvert_exporter": "python",
   "pygments_lexer": "ipython3",
   "version": "3.7.6"
  }
 },
 "nbformat": 4,
 "nbformat_minor": 4
}
